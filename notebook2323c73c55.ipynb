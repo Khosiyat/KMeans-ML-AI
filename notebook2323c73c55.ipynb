{
 "cells": [
  {
   "cell_type": "code",
   "execution_count": 1,
   "id": "incident-atmosphere",
   "metadata": {
    "_cell_guid": "b1076dfc-b9ad-4769-8c92-a6c4dae69d19",
    "_uuid": "8f2839f25d086af736a60e9eeb907d3b93b6e0e5",
    "execution": {
     "iopub.execute_input": "2021-06-21T11:41:37.023583Z",
     "iopub.status.busy": "2021-06-21T11:41:37.022904Z",
     "iopub.status.idle": "2021-06-21T11:41:38.692898Z",
     "shell.execute_reply": "2021-06-21T11:41:38.691743Z",
     "shell.execute_reply.started": "2021-06-21T11:26:23.173270Z"
    },
    "papermill": {
     "duration": 1.693727,
     "end_time": "2021-06-21T11:41:38.693077",
     "exception": false,
     "start_time": "2021-06-21T11:41:36.999350",
     "status": "completed"
    },
    "tags": []
   },
   "outputs": [],
   "source": [
    "import pandas as pd\n",
    "import numpy as np\n",
    "from gensim.models import word2vec\n",
    "from sklearn.cluster import KMeans, DBSCAN"
   ]
  },
  {
   "cell_type": "code",
   "execution_count": 2,
   "id": "british-landing",
   "metadata": {
    "execution": {
     "iopub.execute_input": "2021-06-21T11:41:38.727327Z",
     "iopub.status.busy": "2021-06-21T11:41:38.726677Z",
     "iopub.status.idle": "2021-06-21T11:41:38.875216Z",
     "shell.execute_reply": "2021-06-21T11:41:38.873441Z",
     "shell.execute_reply.started": "2021-06-21T11:26:24.968412Z"
    },
    "papermill": {
     "duration": 0.167326,
     "end_time": "2021-06-21T11:41:38.875375",
     "exception": false,
     "start_time": "2021-06-21T11:41:38.708049",
     "status": "completed"
    },
    "tags": []
   },
   "outputs": [],
   "source": [
    "train_df = pd.read_csv(\"../input/coleridgeinitiative-show-us-the-data/train.csv\")\n",
    "# test_df = pd.read_csv(\"../input/coleridgeinitiative-show-us-the-data/test.csv\")"
   ]
  },
  {
   "cell_type": "code",
   "execution_count": 3,
   "id": "ultimate-control",
   "metadata": {
    "execution": {
     "iopub.execute_input": "2021-06-21T11:41:38.912074Z",
     "iopub.status.busy": "2021-06-21T11:41:38.911293Z",
     "iopub.status.idle": "2021-06-21T11:41:38.915896Z",
     "shell.execute_reply": "2021-06-21T11:41:38.915324Z",
     "shell.execute_reply.started": "2021-06-21T11:26:31.108320Z"
    },
    "papermill": {
     "duration": 0.026322,
     "end_time": "2021-06-21T11:41:38.916031",
     "exception": false,
     "start_time": "2021-06-21T11:41:38.889709",
     "status": "completed"
    },
    "tags": []
   },
   "outputs": [
    {
     "data": {
      "text/plain": [
       "(19661, 5)"
      ]
     },
     "execution_count": 3,
     "metadata": {},
     "output_type": "execute_result"
    }
   ],
   "source": [
    "train_df.shape"
   ]
  },
  {
   "cell_type": "code",
   "execution_count": 4,
   "id": "final-military",
   "metadata": {
    "execution": {
     "iopub.execute_input": "2021-06-21T11:41:38.951167Z",
     "iopub.status.busy": "2021-06-21T11:41:38.950220Z",
     "iopub.status.idle": "2021-06-21T11:41:38.954385Z",
     "shell.execute_reply": "2021-06-21T11:41:38.954803Z",
     "shell.execute_reply.started": "2021-06-21T11:26:39.275008Z"
    },
    "papermill": {
     "duration": 0.024136,
     "end_time": "2021-06-21T11:41:38.954968",
     "exception": false,
     "start_time": "2021-06-21T11:41:38.930832",
     "status": "completed"
    },
    "tags": []
   },
   "outputs": [
    {
     "data": {
      "text/plain": [
       "Index(['Id', 'pub_title', 'dataset_title', 'dataset_label', 'cleaned_label'], dtype='object')"
      ]
     },
     "execution_count": 4,
     "metadata": {},
     "output_type": "execute_result"
    }
   ],
   "source": [
    "train_df.columns"
   ]
  },
  {
   "cell_type": "code",
   "execution_count": 5,
   "id": "median-wichita",
   "metadata": {
    "execution": {
     "iopub.execute_input": "2021-06-21T11:41:38.991847Z",
     "iopub.status.busy": "2021-06-21T11:41:38.990911Z",
     "iopub.status.idle": "2021-06-21T11:41:38.995835Z",
     "shell.execute_reply": "2021-06-21T11:41:38.995197Z",
     "shell.execute_reply.started": "2021-06-21T11:26:49.392609Z"
    },
    "papermill": {
     "duration": 0.02641,
     "end_time": "2021-06-21T11:41:38.995975",
     "exception": false,
     "start_time": "2021-06-21T11:41:38.969565",
     "status": "completed"
    },
    "tags": []
   },
   "outputs": [
    {
     "data": {
      "text/plain": [
       "RangeIndex(start=0, stop=19661, step=1)"
      ]
     },
     "execution_count": 5,
     "metadata": {},
     "output_type": "execute_result"
    }
   ],
   "source": [
    "train_df.index"
   ]
  },
  {
   "cell_type": "code",
   "execution_count": 6,
   "id": "accomplished-heath",
   "metadata": {
    "execution": {
     "iopub.execute_input": "2021-06-21T11:41:39.061352Z",
     "iopub.status.busy": "2021-06-21T11:41:39.045916Z",
     "iopub.status.idle": "2021-06-21T11:41:39.066392Z",
     "shell.execute_reply": "2021-06-21T11:41:39.065871Z",
     "shell.execute_reply.started": "2021-06-21T11:27:11.628049Z"
    },
    "papermill": {
     "duration": 0.054709,
     "end_time": "2021-06-21T11:41:39.066566",
     "exception": false,
     "start_time": "2021-06-21T11:41:39.011857",
     "status": "completed"
    },
    "tags": []
   },
   "outputs": [
    {
     "name": "stdout",
     "output_type": "stream",
     "text": [
      "<class 'pandas.core.frame.DataFrame'>\n",
      "RangeIndex: 19661 entries, 0 to 19660\n",
      "Data columns (total 5 columns):\n",
      " #   Column         Non-Null Count  Dtype \n",
      "---  ------         --------------  ----- \n",
      " 0   Id             19661 non-null  object\n",
      " 1   pub_title      19661 non-null  object\n",
      " 2   dataset_title  19661 non-null  object\n",
      " 3   dataset_label  19661 non-null  object\n",
      " 4   cleaned_label  19661 non-null  object\n",
      "dtypes: object(5)\n",
      "memory usage: 768.1+ KB\n"
     ]
    }
   ],
   "source": [
    "train_df.info()"
   ]
  },
  {
   "cell_type": "code",
   "execution_count": 7,
   "id": "laughing-oakland",
   "metadata": {
    "execution": {
     "iopub.execute_input": "2021-06-21T11:41:39.103294Z",
     "iopub.status.busy": "2021-06-21T11:41:39.102627Z",
     "iopub.status.idle": "2021-06-21T11:41:39.119601Z",
     "shell.execute_reply": "2021-06-21T11:41:39.119001Z",
     "shell.execute_reply.started": "2021-06-21T11:27:16.930725Z"
    },
    "papermill": {
     "duration": 0.03743,
     "end_time": "2021-06-21T11:41:39.119752",
     "exception": false,
     "start_time": "2021-06-21T11:41:39.082322",
     "status": "completed"
    },
    "tags": []
   },
   "outputs": [
    {
     "data": {
      "text/html": [
       "<div>\n",
       "<style scoped>\n",
       "    .dataframe tbody tr th:only-of-type {\n",
       "        vertical-align: middle;\n",
       "    }\n",
       "\n",
       "    .dataframe tbody tr th {\n",
       "        vertical-align: top;\n",
       "    }\n",
       "\n",
       "    .dataframe thead th {\n",
       "        text-align: right;\n",
       "    }\n",
       "</style>\n",
       "<table border=\"1\" class=\"dataframe\">\n",
       "  <thead>\n",
       "    <tr style=\"text-align: right;\">\n",
       "      <th></th>\n",
       "      <th>Id</th>\n",
       "      <th>pub_title</th>\n",
       "      <th>dataset_title</th>\n",
       "      <th>dataset_label</th>\n",
       "      <th>cleaned_label</th>\n",
       "    </tr>\n",
       "  </thead>\n",
       "  <tbody>\n",
       "    <tr>\n",
       "      <th>0</th>\n",
       "      <td>d0fa7568-7d8e-4db9-870f-f9c6f668c17b</td>\n",
       "      <td>The Impact of Dual Enrollment on College Degre...</td>\n",
       "      <td>National Education Longitudinal Study</td>\n",
       "      <td>National Education Longitudinal Study</td>\n",
       "      <td>national education longitudinal study</td>\n",
       "    </tr>\n",
       "    <tr>\n",
       "      <th>1</th>\n",
       "      <td>2f26f645-3dec-485d-b68d-f013c9e05e60</td>\n",
       "      <td>Educational Attainment of High School Dropouts...</td>\n",
       "      <td>National Education Longitudinal Study</td>\n",
       "      <td>National Education Longitudinal Study</td>\n",
       "      <td>national education longitudinal study</td>\n",
       "    </tr>\n",
       "    <tr>\n",
       "      <th>2</th>\n",
       "      <td>c5d5cd2c-59de-4f29-bbb1-6a88c7b52f29</td>\n",
       "      <td>Differences in Outcomes for Female and Male St...</td>\n",
       "      <td>National Education Longitudinal Study</td>\n",
       "      <td>National Education Longitudinal Study</td>\n",
       "      <td>national education longitudinal study</td>\n",
       "    </tr>\n",
       "  </tbody>\n",
       "</table>\n",
       "</div>"
      ],
      "text/plain": [
       "                                     Id  \\\n",
       "0  d0fa7568-7d8e-4db9-870f-f9c6f668c17b   \n",
       "1  2f26f645-3dec-485d-b68d-f013c9e05e60   \n",
       "2  c5d5cd2c-59de-4f29-bbb1-6a88c7b52f29   \n",
       "\n",
       "                                           pub_title  \\\n",
       "0  The Impact of Dual Enrollment on College Degre...   \n",
       "1  Educational Attainment of High School Dropouts...   \n",
       "2  Differences in Outcomes for Female and Male St...   \n",
       "\n",
       "                           dataset_title  \\\n",
       "0  National Education Longitudinal Study   \n",
       "1  National Education Longitudinal Study   \n",
       "2  National Education Longitudinal Study   \n",
       "\n",
       "                           dataset_label  \\\n",
       "0  National Education Longitudinal Study   \n",
       "1  National Education Longitudinal Study   \n",
       "2  National Education Longitudinal Study   \n",
       "\n",
       "                           cleaned_label  \n",
       "0  national education longitudinal study  \n",
       "1  national education longitudinal study  \n",
       "2  national education longitudinal study  "
      ]
     },
     "execution_count": 7,
     "metadata": {},
     "output_type": "execute_result"
    }
   ],
   "source": [
    "train_df.head(3)"
   ]
  },
  {
   "cell_type": "code",
   "execution_count": 8,
   "id": "employed-midnight",
   "metadata": {
    "execution": {
     "iopub.execute_input": "2021-06-21T11:41:39.175608Z",
     "iopub.status.busy": "2021-06-21T11:41:39.174654Z",
     "iopub.status.idle": "2021-06-21T11:46:34.149365Z",
     "shell.execute_reply": "2021-06-21T11:46:34.150053Z",
     "shell.execute_reply.started": "2021-06-21T11:27:30.632445Z"
    },
    "papermill": {
     "duration": 295.010606,
     "end_time": "2021-06-21T11:46:34.150255",
     "exception": false,
     "start_time": "2021-06-21T11:41:39.139649",
     "status": "completed"
    },
    "tags": []
   },
   "outputs": [],
   "source": [
    "#Importing NLTK librariries so that to clean the unstructured language data\n",
    "import nltk\n",
    "from nltk.corpus import stopwords\n",
    "stop_words = stopwords.words('english')\n",
    "from nltk import word_tokenize\n",
    "from nltk import pos_tag\n",
    "import spacy\n",
    "english_spacy = spacy.load('en_core_web_lg')\n",
    "from spacy import displacy\n",
    "import string\n",
    "import re\n",
    "nltk.download('stopwords', quiet=True)\n",
    "stopwords = nltk.corpus.stopwords.words('english')\n",
    "\n",
    "#removing punctuations and stopwords from unstructured langugae data \n",
    "def stopwordsPunctuation_detacher(syntax):\n",
    "    syntax = re.sub(r'[^\\w\\s]','',syntax)\n",
    "    syntax = [lexUnit.lower() for lexUnit in syntax.lower().split() if lexUnit not in stopwords]\n",
    "    syntax=' '.join(syntax)\n",
    "    syntax.translate(str.maketrans('','', string.punctuation))\n",
    "    english_sytax = english_spacy(syntax)\n",
    "    new_syntax = ' '\n",
    "    absence=0\n",
    "    for lex_unit in english_sytax:\n",
    "        if (lex_unit.is_stop == absence):\n",
    "            new_syntax = new_syntax + ' ' + str(lex_unit)\n",
    "    return new_syntax\n",
    "\n",
    "#removing digits, webLinks from unstructured langugae data and making all words lower case.\n",
    "def textCleaning_engine(syntax):\n",
    "    syntax = syntax.lower()\n",
    "    syntax = re.sub('\\[.*?\\]', '', syntax)\n",
    "    syntax = re.sub('https?://\\S+|www\\.\\S+', '', syntax)\n",
    "    syntax = re.sub('<.*?>+', '', syntax)\n",
    "    syntax = re.sub('[%s]' % re.escape(string.punctuation), '', syntax)\n",
    "    syntax = re.sub('\\n', '', syntax)\n",
    "    syntax = re.sub('\\w*\\d\\w*', '', syntax)\n",
    "    clean_syntax = re.sub(r'\\d+','',syntax)\n",
    "    return clean_syntax\n",
    "#Combining the two functions above in one function\n",
    "def ready_sytaxt(syntax):\n",
    "    syntax = syntax.lower()\n",
    "    syntax = stopwordsPunctuation_detacher(syntax)\n",
    "    syntax = textCleaning_engine(syntax)\n",
    "    return syntax\n",
    "\n",
    "train_df['dataset_title'] = train_df['dataset_title'].apply(ready_sytaxt)\n",
    "train_df['pub_title'] = train_df['pub_title'].apply(ready_sytaxt)\n"
   ]
  },
  {
   "cell_type": "code",
   "execution_count": 9,
   "id": "physical-impact",
   "metadata": {
    "execution": {
     "iopub.execute_input": "2021-06-21T11:46:34.184899Z",
     "iopub.status.busy": "2021-06-21T11:46:34.184332Z",
     "iopub.status.idle": "2021-06-21T11:46:34.196765Z",
     "shell.execute_reply": "2021-06-21T11:46:34.197290Z",
     "shell.execute_reply.started": "2021-06-21T11:33:24.225193Z"
    },
    "papermill": {
     "duration": 0.031234,
     "end_time": "2021-06-21T11:46:34.197482",
     "exception": false,
     "start_time": "2021-06-21T11:46:34.166248",
     "status": "completed"
    },
    "tags": []
   },
   "outputs": [],
   "source": [
    "dataset_title_LIST=train_df['dataset_title'].to_list()\n",
    "\n",
    "National_Education_Longitudinal_Study=[]\n",
    "Beginning_Postsecondary_Student=[]\n",
    "Agricultural_Resource_Management_Survey=[]\n",
    "Baltimore_Longitudinal_StudyOfAging=[]\n",
    "Coastal_Change_Analysis_Program=[]\n",
    "Sea_Lake_Overland_Surges_fromHurricanes=[]\n",
    "NOAA_Tide_Gauge=[]\n",
    "for i in dataset_title_LIST:\n",
    "    if i=='National Education Longitudinal Study':\n",
    "        National_Education_Longitudinal_Study.append(i)\n",
    "    elif i=='NOAA Tide Gauge':\n",
    "        NOAA_Tide_Gauge.append(i)\n",
    "    elif i=='Sea, Lake, and Overland Surges from Hurricanes':\n",
    "        Sea_Lake_Overland_Surges_fromHurricanes.append(i)\n",
    "    elif i=='Coastal Change Analysis Program':\n",
    "        Coastal_Change_Analysis_Program.append(i)\n",
    "    elif i==\"Baltimore Longitudinal Study of Aging (BLSA) \":\n",
    "        Baltimore_Longitudinal_StudyOfAging.append(i)\n",
    "    elif i==\"Agricultural Resource Management Survey \":\n",
    "        Agricultural_Resource_Management_Survey.append(i)\n",
    "    else:\n",
    "        Beginning_Postsecondary_Student.append(i)\n",
    "        \n",
    "# print(National_Education_Longitudinal_Study)\n",
    "# Beginning_Postsecondary_Student \n",
    "# Agricultural_Resource_Management_Survey \n",
    "# Baltimore_Longitudinal_StudyOfAging \n",
    "# Coastal_Change_Analysis_Program \n",
    "# Sea_Lake_Overland_Surges_fromHurricanes\n",
    "# NOAA_Tide_Gauge\n"
   ]
  },
  {
   "cell_type": "code",
   "execution_count": 10,
   "id": "thousand-article",
   "metadata": {
    "execution": {
     "iopub.execute_input": "2021-06-21T11:46:34.233500Z",
     "iopub.status.busy": "2021-06-21T11:46:34.232545Z",
     "iopub.status.idle": "2021-06-21T11:46:34.276802Z",
     "shell.execute_reply": "2021-06-21T11:46:34.277290Z",
     "shell.execute_reply.started": "2021-06-21T11:33:24.242483Z"
    },
    "papermill": {
     "duration": 0.064266,
     "end_time": "2021-06-21T11:46:34.277490",
     "exception": false,
     "start_time": "2021-06-21T11:46:34.213224",
     "status": "completed"
    },
    "tags": []
   },
   "outputs": [],
   "source": [
    "ready_label=train_df['cleaned_label'].values.astype('str')\n",
    "train_uniqueLabels = np.unique(ready_label)\n",
    "labels = [lbl.split() for lbl in train_uniqueLabels]\n",
    "\n",
    "\n"
   ]
  },
  {
   "cell_type": "code",
   "execution_count": 11,
   "id": "fitted-proposition",
   "metadata": {
    "execution": {
     "iopub.execute_input": "2021-06-21T11:46:34.312199Z",
     "iopub.status.busy": "2021-06-21T11:46:34.311295Z",
     "iopub.status.idle": "2021-06-21T11:46:34.316068Z",
     "shell.execute_reply": "2021-06-21T11:46:34.316506Z",
     "shell.execute_reply.started": "2021-06-21T11:37:12.731820Z"
    },
    "papermill": {
     "duration": 0.023595,
     "end_time": "2021-06-21T11:46:34.316688",
     "exception": false,
     "start_time": "2021-06-21T11:46:34.293093",
     "status": "completed"
    },
    "tags": []
   },
   "outputs": [],
   "source": [
    "def trainANDbuildVocab(label, dimension, epochs):\n",
    "    word2vec_model = word2vec.Word2Vec(vector_size = dimension, min_count= 1)\n",
    "    word2vec_model.build_vocab(labels)\n",
    "    word2vec_model.train(labels, epochs=epochs, total_examples=word2vec_model.corpus_count)\n",
    "    return word2vec_model\n"
   ]
  },
  {
   "cell_type": "code",
   "execution_count": 12,
   "id": "flexible-arrangement",
   "metadata": {
    "execution": {
     "iopub.execute_input": "2021-06-21T11:46:34.351361Z",
     "iopub.status.busy": "2021-06-21T11:46:34.350392Z",
     "iopub.status.idle": "2021-06-21T11:46:34.353947Z",
     "shell.execute_reply": "2021-06-21T11:46:34.354341Z",
     "shell.execute_reply.started": "2021-06-21T11:37:13.784111Z"
    },
    "papermill": {
     "duration": 0.022254,
     "end_time": "2021-06-21T11:46:34.354520",
     "exception": false,
     "start_time": "2021-06-21T11:46:34.332266",
     "status": "completed"
    },
    "tags": []
   },
   "outputs": [],
   "source": [
    "# glovePretrainedModel = pd.read_csv('../input/glove6b50dtxt/glove.6B.50d.txt', sep=\" \", quoting=3, header=None, index_col=0)"
   ]
  },
  {
   "cell_type": "code",
   "execution_count": 13,
   "id": "virgin-march",
   "metadata": {
    "execution": {
     "iopub.execute_input": "2021-06-21T11:46:34.389551Z",
     "iopub.status.busy": "2021-06-21T11:46:34.388681Z",
     "iopub.status.idle": "2021-06-21T11:47:42.099371Z",
     "shell.execute_reply": "2021-06-21T11:47:42.100275Z",
     "shell.execute_reply.started": "2021-06-21T11:40:04.584670Z"
    },
    "papermill": {
     "duration": 67.730352,
     "end_time": "2021-06-21T11:47:42.100807",
     "exception": false,
     "start_time": "2021-06-21T11:46:34.370455",
     "status": "completed"
    },
    "tags": []
   },
   "outputs": [
    {
     "name": "stdout",
     "output_type": "stream",
     "text": [
      "['glove.42B.300d.txt', 'glove.6B.50d.txt', 'glove.6B.100d.txt', 'glove.6B.200d.txt', 'glove.6B.300d.txt', 'glove.840B.300d.txt', 'glove.twitter.27B.25d.txt', 'glove.twitter.27B.50d.txt', 'glove.twitter.27B.100d.txt', 'glove.twitter.27B.200d.txt']\n",
      "Downloading /root/.mxnet/embeddings/glove/glove.6B.zip from https://apache-mxnet.s3-accelerate.dualstack.amazonaws.com/gluon/embeddings/glove/glove.6B.zip...\n"
     ]
    }
   ],
   "source": [
    "from mxnet import nd\n",
    "from mxnet.contrib import text\n",
    "import pickle\n",
    "\n",
    "def download_gloveAlgorithm():\n",
    "    print(text.embedding.get_pretrained_file_names('glove'))\n",
    "    obtain_vector_representations = text.embedding.create('glove', \n",
    "                                                          pretrained_file_name='glove.6B.50d.txt')\n",
    "    return obtain_vector_representations\n",
    "    \n",
    "#     with open('glove.6B.50d.pkl', 'wb') as fp:\n",
    "#         pickle.dump(glovePretrainedModel, fp)\n",
    "\n",
    "glovePretrainedModel = download_gloveAlgorithm()"
   ]
  },
  {
   "cell_type": "code",
   "execution_count": 14,
   "id": "treated-hygiene",
   "metadata": {
    "execution": {
     "iopub.execute_input": "2021-06-21T11:47:42.145924Z",
     "iopub.status.busy": "2021-06-21T11:47:42.144956Z",
     "iopub.status.idle": "2021-06-21T11:47:42.147495Z",
     "shell.execute_reply": "2021-06-21T11:47:42.147977Z",
     "shell.execute_reply.started": "2021-06-21T11:40:21.292906Z"
    },
    "papermill": {
     "duration": 0.027257,
     "end_time": "2021-06-21T11:47:42.148142",
     "exception": false,
     "start_time": "2021-06-21T11:47:42.120885",
     "status": "completed"
    },
    "tags": []
   },
   "outputs": [],
   "source": [
    "def getAverage_attachedLabel(labels, dimension, attaching_index):\n",
    "    labelAttached_container = []\n",
    "    for token in labels:\n",
    "        sumOf_attachedLAbels = np.zeros(shape=(dimension, ))\n",
    "        for tkn in token:\n",
    "            getVecByToken = attaching_index.get_vecs_by_tokens([tkn]).asnumpy().reshape(-1)\n",
    "\n",
    "            sumOf_attachedLAbels += getVecByToken\n",
    "            \n",
    "        avg_embedding = sumOf_attachedLAbels/len(token)\n",
    "        labelAttached_container.append(avg_embedding.tolist())\n",
    "\n",
    "    labelAttached_container = np.array(labelAttached_container)\n",
    "    \n",
    "    return labelAttached_container"
   ]
  },
  {
   "cell_type": "code",
   "execution_count": 15,
   "id": "preceding-newfoundland",
   "metadata": {
    "execution": {
     "iopub.execute_input": "2021-06-21T11:47:42.183281Z",
     "iopub.status.busy": "2021-06-21T11:47:42.182380Z",
     "iopub.status.idle": "2021-06-21T11:47:42.454833Z",
     "shell.execute_reply": "2021-06-21T11:47:42.454324Z",
     "shell.execute_reply.started": "2021-06-21T11:40:22.744808Z"
    },
    "papermill": {
     "duration": 0.291042,
     "end_time": "2021-06-21T11:47:42.454973",
     "exception": false,
     "start_time": "2021-06-21T11:47:42.163931",
     "status": "completed"
    },
    "tags": []
   },
   "outputs": [
    {
     "data": {
      "text/plain": [
       "(130, 50)"
      ]
     },
     "execution_count": 15,
     "metadata": {},
     "output_type": "execute_result"
    }
   ],
   "source": [
    "averageAttachedLabel = getAverage_attachedLabel(labels, \n",
    "                                                50, \n",
    "                                                glovePretrainedModel)\n",
    "averageAttachedLabel.shape"
   ]
  },
  {
   "cell_type": "code",
   "execution_count": 16,
   "id": "affecting-stewart",
   "metadata": {
    "execution": {
     "iopub.execute_input": "2021-06-21T11:47:42.493851Z",
     "iopub.status.busy": "2021-06-21T11:47:42.493041Z",
     "iopub.status.idle": "2021-06-21T11:47:42.496544Z",
     "shell.execute_reply": "2021-06-21T11:47:42.495978Z",
     "shell.execute_reply.started": "2021-06-21T11:40:23.732551Z"
    },
    "papermill": {
     "duration": 0.025881,
     "end_time": "2021-06-21T11:47:42.496677",
     "exception": false,
     "start_time": "2021-06-21T11:47:42.470796",
     "status": "completed"
    },
    "tags": []
   },
   "outputs": [],
   "source": [
    "def distance_betweenPoints(a_point, b_point, axis=None):#eucledean distance\n",
    "    return np.sqrt( np.power(a_point - b_point, 2).sum(axis=axis) )\n",
    "\n",
    "def multiDimensionalAverageArray_ofTheCluster(element, cluster=3):#cetroid\n",
    "    mean, observation = np.shape(element)\n",
    "    centroids = np.mat( np.zeros((cluster, observation)) )\n",
    "\n",
    "    minimizeDimension = np.min(element, axis=0)\n",
    "    maximizeDimension = np.max(element, axis=0) - minimizeDimension\n",
    "\n",
    "    multiDimensionalAverage_ofTheCluster = np.tile(minimizeDimension, (cluster, 1)) + np.multiply(np.tile(maximizeDimension, (cluster, 1)), np.random.rand(cluster, observation))\n",
    "\n",
    "    return multiDimensionalAverage_ofTheCluster"
   ]
  },
  {
   "cell_type": "code",
   "execution_count": 17,
   "id": "forced-richmond",
   "metadata": {
    "execution": {
     "iopub.execute_input": "2021-06-21T11:47:42.537181Z",
     "iopub.status.busy": "2021-06-21T11:47:42.536602Z",
     "iopub.status.idle": "2021-06-21T11:47:42.538582Z",
     "shell.execute_reply": "2021-06-21T11:47:42.539041Z",
     "shell.execute_reply.started": "2021-06-21T11:40:25.633766Z"
    },
    "papermill": {
     "duration": 0.026531,
     "end_time": "2021-06-21T11:47:42.539202",
     "exception": false,
     "start_time": "2021-06-21T11:47:42.512671",
     "status": "completed"
    },
    "tags": []
   },
   "outputs": [],
   "source": [
    "def k_meansClustering(element, cluster, calculateEuclideanDistance=distance_betweenPoints, createClusterMean=multiDimensionalAverageArray_ofTheCluster):\n",
    "    mean, observations = np.shape(element)\n",
    "    newContainer_forCluster = np.mat( -np.ones((mean, 2)) )\n",
    "    ClusterMean_centroid = createClusterMean(element, cluster)\n",
    "    modified = True\n",
    "\n",
    "    while modified:\n",
    "        modified = False\n",
    "\n",
    "        for each_element in range(mean): \n",
    "            minDistance = -1 \n",
    "            minIndex = -2\n",
    "\n",
    "            for each_subElement in range(cluster):\n",
    "                EuclideanDistanceCalculation = calculateEuclideanDistance( element[each_element, :], ClusterMean_centroid[each_subElement, :] )\n",
    "                if EuclideanDistanceCalculation < minDistance or minDistance == -1:\n",
    "                    minDistance = EuclideanDistanceCalculation; minIndex = each_subElement\n",
    "\n",
    "            if newContainer_forCluster[each_element, 0] != minIndex: modified = True\n",
    "            newContainer_forCluster[each_element, :] = (minIndex, minDistance**2)\n",
    "\n",
    "        for centreCluster in range(cluster):  \n",
    "            pointsPatternOfCluster = element[ np.nonzero(newContainer_forCluster[:, 0].A == centreCluster)[0] ]  \n",
    "            ClusterMean_centroid[centreCluster, :] = np.mean(pointsPatternOfCluster, axis=0)\n",
    "    return ClusterMean_centroid, newContainer_forCluster"
   ]
  },
  {
   "cell_type": "code",
   "execution_count": 18,
   "id": "challenging-slovenia",
   "metadata": {
    "execution": {
     "iopub.execute_input": "2021-06-21T11:47:42.574322Z",
     "iopub.status.busy": "2021-06-21T11:47:42.573733Z",
     "iopub.status.idle": "2021-06-21T11:47:42.584097Z",
     "shell.execute_reply": "2021-06-21T11:47:42.584508Z",
     "shell.execute_reply.started": "2021-06-21T11:40:27.000127Z"
    },
    "papermill": {
     "duration": 0.029415,
     "end_time": "2021-06-21T11:47:42.584673",
     "exception": false,
     "start_time": "2021-06-21T11:47:42.555258",
     "status": "completed"
    },
    "tags": []
   },
   "outputs": [],
   "source": [
    "\n",
    "def divisiveHierarchyClustering_kMeans(element, cluster, calculateEuclideanDistance=distance_betweenPoints):\n",
    "    mean, observations = np.shape(element)\n",
    "    multiDimensionalAverage_centroid = np.mean(element, axis=0).tolist()[0]\n",
    "    multiDimensionalAverage_cluster = [multiDimensionalAverage_centroid] \n",
    "\n",
    "    newContainer_forCluster = np.mat( np.zeros((mean, 2)) )\n",
    "    for each_element in range(mean):\n",
    "        newContainer_forCluster[each_element, 1] = calculateEuclideanDistance(multiDimensionalAverage_centroid, element[each_element, :]) ** 2\n",
    "\n",
    "    while(len(multiDimensionalAverage_cluster) < cluster):\n",
    "        lowest_SumOFSquaredError = -1\n",
    "        for each_element, _ in enumerate(multiDimensionalAverage_cluster):\n",
    "            subCluster = element[np.nonzero(newContainer_forCluster[:, 0].A == each_element)[0], :]  \n",
    "\n",
    "            subCentroids, subContainer_forCluster = k_meansClustering(subCluster, 2, calculateEuclideanDistance)\n",
    "            if np.any( np.isnan(subCentroids) ) == True:\n",
    "                subCentroids, subContainer_forCluster = k_meansClustering(subCluster, 2, calculateEuclideanDistance)\n",
    "                if np.isnan( np.sum(subCentroids) ) == True:\n",
    "                    continue\n",
    "\n",
    "            subSquaredError = np.sum( subContainer_forCluster[:, 1] )\n",
    "            nonZero_subSquaredError = np.sum( newContainer_forCluster[np.nonzero(newContainer_forCluster[:, 0].A != each_element)[0], 1] )\n",
    "            if (subSquaredError + nonZero_subSquaredError) < lowest_SumOFSquaredError or lowest_SumOFSquaredError == -1:\n",
    "                lowest_SumOFSquaredError = subSquaredError + nonZero_subSquaredError\n",
    "                optimalSplit_centre = each_element\n",
    "                optimal_subcentroids = subCentroids\n",
    "                optimalContainer_forCluster = subContainer_forCluster\n",
    "\n",
    "        if lowest_SumOFSquaredError == -1: break \n",
    "        print(\"{} multiDimensionalAverage_cluster of SumOFSquaredError: {}\".format(len(multiDimensionalAverage_cluster)+1, lowest_SumOFSquaredError))\n",
    "        indx1 = np.nonzero(optimalContainer_forCluster[:, 0].A == 1)[0]\n",
    "        indx0 = np.nonzero(optimalContainer_forCluster[:, 0].A == 0)[0]\n",
    "        optimalContainer_forCluster[indx1, 0] = len(multiDimensionalAverage_cluster)\n",
    "        optimalContainer_forCluster[indx0, 0] = optimalSplit_centre\n",
    "        newContainer_forCluster[np.nonzero(newContainer_forCluster[:, 0].A == optimalSplit_centre)[0], :] = optimalContainer_forCluster\n",
    "\n",
    "        multiDimensionalAverage_cluster[optimalSplit_centre] = optimal_subcentroids[0].tolist()[0] \n",
    "        multiDimensionalAverage_cluster.append(optimal_subcentroids[1].tolist()[0])\n",
    "    return np.mat(multiDimensionalAverage_cluster), newContainer_forCluster\n",
    "#the credit for the idea of this model is Jameson's"
   ]
  },
  {
   "cell_type": "code",
   "execution_count": 19,
   "id": "micro-battle",
   "metadata": {
    "execution": {
     "iopub.execute_input": "2021-06-21T11:47:42.619633Z",
     "iopub.status.busy": "2021-06-21T11:47:42.619075Z",
     "iopub.status.idle": "2021-06-21T11:47:46.354503Z",
     "shell.execute_reply": "2021-06-21T11:47:46.355423Z",
     "shell.execute_reply.started": "2021-06-21T11:40:28.311844Z"
    },
    "papermill": {
     "duration": 3.755041,
     "end_time": "2021-06-21T11:47:46.355673",
     "exception": false,
     "start_time": "2021-06-21T11:47:42.600632",
     "status": "completed"
    },
    "tags": []
   },
   "outputs": [
    {
     "name": "stdout",
     "output_type": "stream",
     "text": [
      "2 multiDimensionalAverage_cluster of SumOFSquaredError: 457.98912110699825\n",
      "3 multiDimensionalAverage_cluster of SumOFSquaredError: 418.83352655696655\n",
      "4 multiDimensionalAverage_cluster of SumOFSquaredError: 396.13680974588783\n",
      "5 multiDimensionalAverage_cluster of SumOFSquaredError: 357.07642163749597\n",
      "6 multiDimensionalAverage_cluster of SumOFSquaredError: 331.0150931949396\n",
      "7 multiDimensionalAverage_cluster of SumOFSquaredError: 305.78944465865277\n",
      "8 multiDimensionalAverage_cluster of SumOFSquaredError: 292.32099981317435\n",
      "9 multiDimensionalAverage_cluster of SumOFSquaredError: 278.94872606241665\n",
      "10 multiDimensionalAverage_cluster of SumOFSquaredError: 265.05114609542613\n",
      "11 multiDimensionalAverage_cluster of SumOFSquaredError: 253.64571746422476\n"
     ]
    },
    {
     "name": "stderr",
     "output_type": "stream",
     "text": [
      "/opt/conda/lib/python3.7/site-packages/numpy/core/fromnumeric.py:3373: RuntimeWarning: Mean of empty slice.\n",
      "  out=out, **kwargs)\n",
      "/opt/conda/lib/python3.7/site-packages/numpy/core/_methods.py:163: RuntimeWarning: invalid value encountered in true_divide\n",
      "  ret, rcount, out=ret, casting='unsafe', subok=False)\n"
     ]
    },
    {
     "name": "stdout",
     "output_type": "stream",
     "text": [
      "12 multiDimensionalAverage_cluster of SumOFSquaredError: 245.49376716667504\n",
      "13 multiDimensionalAverage_cluster of SumOFSquaredError: 236.50123722987195\n",
      "14 multiDimensionalAverage_cluster of SumOFSquaredError: 227.15519687650334\n",
      "15 multiDimensionalAverage_cluster of SumOFSquaredError: 218.43589819564167\n",
      "16 multiDimensionalAverage_cluster of SumOFSquaredError: 210.99395171147438\n",
      "17 multiDimensionalAverage_cluster of SumOFSquaredError: 202.48283032456897\n",
      "18 multiDimensionalAverage_cluster of SumOFSquaredError: 193.47349617602868\n",
      "19 multiDimensionalAverage_cluster of SumOFSquaredError: 186.60526301126754\n",
      "20 multiDimensionalAverage_cluster of SumOFSquaredError: 179.6126956993829\n",
      "21 multiDimensionalAverage_cluster of SumOFSquaredError: 171.9024499901113\n",
      "22 multiDimensionalAverage_cluster of SumOFSquaredError: 165.0509077788033\n",
      "23 multiDimensionalAverage_cluster of SumOFSquaredError: 158.27543107981938\n",
      "24 multiDimensionalAverage_cluster of SumOFSquaredError: 152.09926353714195\n",
      "25 multiDimensionalAverage_cluster of SumOFSquaredError: 146.6975362587881\n",
      "26 multiDimensionalAverage_cluster of SumOFSquaredError: 141.38341342006834\n",
      "27 multiDimensionalAverage_cluster of SumOFSquaredError: 136.1371019199975\n",
      "28 multiDimensionalAverage_cluster of SumOFSquaredError: 130.9408462062735\n",
      "29 multiDimensionalAverage_cluster of SumOFSquaredError: 125.82668441129212\n",
      "30 multiDimensionalAverage_cluster of SumOFSquaredError: 121.29940128254908\n",
      "31 multiDimensionalAverage_cluster of SumOFSquaredError: 116.53001153346855\n",
      "32 multiDimensionalAverage_cluster of SumOFSquaredError: 112.14346215311194\n",
      "33 multiDimensionalAverage_cluster of SumOFSquaredError: 107.78255667636519\n",
      "34 multiDimensionalAverage_cluster of SumOFSquaredError: 103.4691492867047\n",
      "35 multiDimensionalAverage_cluster of SumOFSquaredError: 99.96448891388584\n",
      "36 multiDimensionalAverage_cluster of SumOFSquaredError: 96.45578187412974\n",
      "37 multiDimensionalAverage_cluster of SumOFSquaredError: 93.26145393047847\n",
      "38 multiDimensionalAverage_cluster of SumOFSquaredError: 89.50182873950652\n",
      "39 multiDimensionalAverage_cluster of SumOFSquaredError: 85.91790670918203\n",
      "40 multiDimensionalAverage_cluster of SumOFSquaredError: 82.85644734703934\n",
      "41 multiDimensionalAverage_cluster of SumOFSquaredError: 79.35582302490943\n",
      "42 multiDimensionalAverage_cluster of SumOFSquaredError: 76.34214268255579\n",
      "43 multiDimensionalAverage_cluster of SumOFSquaredError: 72.89047416243676\n",
      "44 multiDimensionalAverage_cluster of SumOFSquaredError: 69.66595084697795\n",
      "45 multiDimensionalAverage_cluster of SumOFSquaredError: 66.84020556272644\n",
      "46 multiDimensionalAverage_cluster of SumOFSquaredError: 64.15392605346412\n",
      "47 multiDimensionalAverage_cluster of SumOFSquaredError: 61.586191537966585\n",
      "48 multiDimensionalAverage_cluster of SumOFSquaredError: 59.36453216586879\n",
      "49 multiDimensionalAverage_cluster of SumOFSquaredError: 57.210212033993095\n",
      "50 multiDimensionalAverage_cluster of SumOFSquaredError: 54.679403952190675\n",
      "51 multiDimensionalAverage_cluster of SumOFSquaredError: 52.54379240885938\n",
      "52 multiDimensionalAverage_cluster of SumOFSquaredError: 50.61616878950858\n",
      "53 multiDimensionalAverage_cluster of SumOFSquaredError: 48.5913575351029\n",
      "54 multiDimensionalAverage_cluster of SumOFSquaredError: 46.59141055808291\n",
      "55 multiDimensionalAverage_cluster of SumOFSquaredError: 44.56900449278451\n",
      "56 multiDimensionalAverage_cluster of SumOFSquaredError: 42.70709752628627\n",
      "57 multiDimensionalAverage_cluster of SumOFSquaredError: 41.01540032724449\n",
      "58 multiDimensionalAverage_cluster of SumOFSquaredError: 39.153571473556916\n",
      "59 multiDimensionalAverage_cluster of SumOFSquaredError: 37.677865130782344\n",
      "60 multiDimensionalAverage_cluster of SumOFSquaredError: 36.185923093184144\n",
      "61 multiDimensionalAverage_cluster of SumOFSquaredError: 34.71686419351337\n",
      "62 multiDimensionalAverage_cluster of SumOFSquaredError: 33.23602700987285\n",
      "63 multiDimensionalAverage_cluster of SumOFSquaredError: 31.88420436195283\n",
      "64 multiDimensionalAverage_cluster of SumOFSquaredError: 30.448502552509925\n",
      "65 multiDimensionalAverage_cluster of SumOFSquaredError: 29.126465759904455\n",
      "66 multiDimensionalAverage_cluster of SumOFSquaredError: 27.93018008360661\n",
      "67 multiDimensionalAverage_cluster of SumOFSquaredError: 26.746451679402007\n",
      "68 multiDimensionalAverage_cluster of SumOFSquaredError: 25.609522454294154\n",
      "69 multiDimensionalAverage_cluster of SumOFSquaredError: 24.53387126267635\n",
      "70 multiDimensionalAverage_cluster of SumOFSquaredError: 23.483756683725623\n",
      "71 multiDimensionalAverage_cluster of SumOFSquaredError: 22.425639722482806\n",
      "72 multiDimensionalAverage_cluster of SumOFSquaredError: 21.466707999784557\n",
      "73 multiDimensionalAverage_cluster of SumOFSquaredError: 20.48142800232982\n",
      "74 multiDimensionalAverage_cluster of SumOFSquaredError: 19.57854636387406\n",
      "75 multiDimensionalAverage_cluster of SumOFSquaredError: 18.676588316673826\n",
      "76 multiDimensionalAverage_cluster of SumOFSquaredError: 17.790810205454598\n",
      "77 multiDimensionalAverage_cluster of SumOFSquaredError: 16.91104775980085\n",
      "78 multiDimensionalAverage_cluster of SumOFSquaredError: 16.058615379317416\n",
      "79 multiDimensionalAverage_cluster of SumOFSquaredError: 15.212843081924614\n",
      "80 multiDimensionalAverage_cluster of SumOFSquaredError: 14.487968786146995\n",
      "81 multiDimensionalAverage_cluster of SumOFSquaredError: 13.873311692248809\n",
      "82 multiDimensionalAverage_cluster of SumOFSquaredError: 13.074869119408136\n",
      "83 multiDimensionalAverage_cluster of SumOFSquaredError: 12.4511514567705\n",
      "84 multiDimensionalAverage_cluster of SumOFSquaredError: 11.84001691868295\n",
      "85 multiDimensionalAverage_cluster of SumOFSquaredError: 11.234441775577661\n",
      "86 multiDimensionalAverage_cluster of SumOFSquaredError: 10.671932776212982\n",
      "87 multiDimensionalAverage_cluster of SumOFSquaredError: 10.139345281889115\n",
      "88 multiDimensionalAverage_cluster of SumOFSquaredError: 9.628207483895215\n",
      "89 multiDimensionalAverage_cluster of SumOFSquaredError: 9.050558331748784\n",
      "90 multiDimensionalAverage_cluster of SumOFSquaredError: 8.603136474322154\n",
      "91 multiDimensionalAverage_cluster of SumOFSquaredError: 8.157260607342126\n",
      "92 multiDimensionalAverage_cluster of SumOFSquaredError: 7.718958912780673\n",
      "93 multiDimensionalAverage_cluster of SumOFSquaredError: 7.2870522871256025\n",
      "94 multiDimensionalAverage_cluster of SumOFSquaredError: 6.859793316652574\n",
      "95 multiDimensionalAverage_cluster of SumOFSquaredError: 6.434857343144595\n",
      "96 multiDimensionalAverage_cluster of SumOFSquaredError: 6.016705533810726\n",
      "97 multiDimensionalAverage_cluster of SumOFSquaredError: 5.620667976658491\n",
      "98 multiDimensionalAverage_cluster of SumOFSquaredError: 5.220637795096037\n",
      "99 multiDimensionalAverage_cluster of SumOFSquaredError: 4.842894850135863\n",
      "100 multiDimensionalAverage_cluster of SumOFSquaredError: 4.502154273946417\n",
      "shape of centroids : ----> (1, 100)\n",
      "\n",
      "\n",
      "centroids : ----> [[ 0.14337028 -0.08684    -0.36280249  0.03768596  0.44693338  0.587584\n",
      "   0.85333428  0.18499001  0.58468999 -0.17118934  0.08800002  0.\n",
      "   0.24728725 -0.1470811   0.06574    -0.05075751  0.1690075  -0.4306136\n",
      "   0.05951201  0.60337501  0.3799773   0.09204087 -0.42254693  0.02162757\n",
      "   0.731905   -0.006095    0.19610001  0.13184     0.54050332  0.06550199\n",
      "   0.29991134  0.41652027  0.75187401 -0.15963473  0.1895573   0.34869572\n",
      "   0.40537749 -0.1362875   0.09346285  0.50193742 -0.18301243  0.02778668\n",
      "  -0.0889194   0.35480399  0.03070668  0.4091323   0.0274241  -0.09957799\n",
      "   0.65158642  0.24201743  0.19829249  0.46710001  0.2407933   0.32598715\n",
      "   0.02998353 -0.06685694 -0.30670399 -0.07310474 -0.41400001 -0.25737671\n",
      "   0.1260396   0.2146332   0.47908    -0.10024715 -0.08006833  0.28654001\n",
      "   0.1669918   0.02180316 -0.29617545 -0.23974857 -0.40064857  0.12979\n",
      "   0.1286558   0.12323913  0.15563513 -0.03125667  0.50530001  0.84640334\n",
      "   0.3322775  -0.16040077  0.62440601  0.76271001  0.88229513 -0.25459498\n",
      "   0.34348     0.34709497  0.49032153  0.38240599 -0.05017286  0.18731802\n",
      "   0.29372334 -0.24038666 -0.18404733 -0.308074    0.02084001  0.79295261\n",
      "   0.74845201 -0.11874111  0.256758    0.08635415]]\n",
      "\n",
      "\n",
      "\n",
      "\n",
      "shape of newContainerForCluster : ----> (130, 2)\n",
      "\n",
      "\n",
      "newContainerForCluster : ----> [[9.60000000e+01 0.00000000e+00]\n",
      " [8.10000000e+01 8.15633741e-02]\n",
      " [8.10000000e+01 8.15633741e-02]\n",
      " [1.00000000e+00 0.00000000e+00]\n",
      " [9.40000000e+01 0.00000000e+00]\n",
      " [4.10000000e+01 0.00000000e+00]\n",
      " [2.80000000e+01 0.00000000e+00]\n",
      " [3.60000000e+01 0.00000000e+00]\n",
      " [2.50000000e+01 1.16472589e-01]\n",
      " [2.50000000e+01 1.16472589e-01]\n",
      " [7.70000000e+01 0.00000000e+00]\n",
      " [2.40000000e+01 0.00000000e+00]\n",
      " [2.70000000e+01 0.00000000e+00]\n",
      " [6.20000000e+01 0.00000000e+00]\n",
      " [0.00000000e+00 0.00000000e+00]\n",
      " [7.50000000e+01 0.00000000e+00]\n",
      " [7.00000000e+00 0.00000000e+00]\n",
      " [3.00000000e+01 7.36684106e-02]\n",
      " [3.00000000e+01 7.36684106e-02]\n",
      " [5.80000000e+01 0.00000000e+00]\n",
      " [9.10000000e+01 0.00000000e+00]\n",
      " [1.80000000e+01 0.00000000e+00]\n",
      " [8.50000000e+01 5.38654405e-02]\n",
      " [8.50000000e+01 5.38654405e-02]\n",
      " [3.50000000e+01 0.00000000e+00]\n",
      " [1.10000000e+01 0.00000000e+00]\n",
      " [2.10000000e+01 0.00000000e+00]\n",
      " [4.00000000e+00 6.37919777e-02]\n",
      " [4.00000000e+00 6.37919777e-02]\n",
      " [8.70000000e+01 0.00000000e+00]\n",
      " [4.30000000e+01 0.00000000e+00]\n",
      " [7.80000000e+01 0.00000000e+00]\n",
      " [4.90000000e+01 2.83618730e-02]\n",
      " [4.90000000e+01 2.83618730e-02]\n",
      " [1.60000000e+01 0.00000000e+00]\n",
      " [1.90000000e+01 8.15633741e-02]\n",
      " [1.90000000e+01 8.15633741e-02]\n",
      " [6.00000000e+01 0.00000000e+00]\n",
      " [6.60000000e+01 0.00000000e+00]\n",
      " [7.20000000e+01 0.00000000e+00]\n",
      " [9.90000000e+01 0.00000000e+00]\n",
      " [1.20000000e+01 0.00000000e+00]\n",
      " [5.10000000e+01 0.00000000e+00]\n",
      " [4.40000000e+01 0.00000000e+00]\n",
      " [5.30000000e+01 1.33660094e-01]\n",
      " [3.20000000e+01 5.22005594e-02]\n",
      " [8.00000000e+01 5.22005594e-02]\n",
      " [6.00000000e+00 3.62503885e-02]\n",
      " [3.20000000e+01 5.22005594e-02]\n",
      " [8.00000000e+01 5.22005594e-02]\n",
      " [6.00000000e+00 3.62503885e-02]\n",
      " [3.70000000e+01 0.00000000e+00]\n",
      " [3.00000000e+00 1.39022867e-01]\n",
      " [1.10000000e+01 0.00000000e+00]\n",
      " [4.00000000e+01 0.00000000e+00]\n",
      " [1.40000000e+01 0.00000000e+00]\n",
      " [6.70000000e+01 0.00000000e+00]\n",
      " [4.70000000e+01 0.00000000e+00]\n",
      " [1.30000000e+01 0.00000000e+00]\n",
      " [7.90000000e+01 0.00000000e+00]\n",
      " [6.80000000e+01 6.92236288e-02]\n",
      " [6.80000000e+01 6.92236288e-02]\n",
      " [9.20000000e+01 5.60814166e-02]\n",
      " [4.60000000e+01 1.22460579e-01]\n",
      " [8.80000000e+01 0.00000000e+00]\n",
      " [8.30000000e+01 0.00000000e+00]\n",
      " [5.90000000e+01 0.00000000e+00]\n",
      " [5.20000000e+01 0.00000000e+00]\n",
      " [7.30000000e+01 0.00000000e+00]\n",
      " [9.70000000e+01 0.00000000e+00]\n",
      " [6.90000000e+01 0.00000000e+00]\n",
      " [7.00000000e+01 0.00000000e+00]\n",
      " [9.20000000e+01 5.60814166e-02]\n",
      " [4.60000000e+01 1.22460579e-01]\n",
      " [7.40000000e+01 1.71570233e-01]\n",
      " [5.60000000e+01 0.00000000e+00]\n",
      " [9.80000000e+01 0.00000000e+00]\n",
      " [2.30000000e+01 0.00000000e+00]\n",
      " [2.90000000e+01 0.00000000e+00]\n",
      " [5.70000000e+01 1.44971044e-01]\n",
      " [4.20000000e+01 3.57630661e-02]\n",
      " [2.20000000e+01 0.00000000e+00]\n",
      " [3.30000000e+01 0.00000000e+00]\n",
      " [6.10000000e+01 0.00000000e+00]\n",
      " [8.60000000e+01 0.00000000e+00]\n",
      " [3.10000000e+01 0.00000000e+00]\n",
      " [4.50000000e+01 0.00000000e+00]\n",
      " [4.80000000e+01 0.00000000e+00]\n",
      " [1.70000000e+01 0.00000000e+00]\n",
      " [5.50000000e+01 0.00000000e+00]\n",
      " [3.40000000e+01 0.00000000e+00]\n",
      " [2.00000000e+01 0.00000000e+00]\n",
      " [8.90000000e+01 0.00000000e+00]\n",
      " [1.00000000e+01 0.00000000e+00]\n",
      " [9.00000000e+01 0.00000000e+00]\n",
      " [3.00000000e+00 1.39022867e-01]\n",
      " [9.30000000e+01 0.00000000e+00]\n",
      " [4.20000000e+01 6.20450961e-02]\n",
      " [5.30000000e+01 1.33660094e-01]\n",
      " [7.40000000e+01 1.45519412e-01]\n",
      " [5.00000000e+00 0.00000000e+00]\n",
      " [5.00000000e+01 0.00000000e+00]\n",
      " [3.80000000e+01 1.52493032e-01]\n",
      " [3.80000000e+01 1.52493032e-01]\n",
      " [7.10000000e+01 0.00000000e+00]\n",
      " [5.40000000e+01 1.24963098e-01]\n",
      " [5.40000000e+01 2.05076447e-01]\n",
      " [5.40000000e+01 2.08908636e-01]\n",
      " [1.50000000e+01 0.00000000e+00]\n",
      " [9.50000000e+01 8.34405101e-02]\n",
      " [9.50000000e+01 7.14838688e-02]\n",
      " [9.50000000e+01 7.14838688e-02]\n",
      " [9.50000000e+01 8.34405101e-02]\n",
      " [8.20000000e+01 5.22005594e-02]\n",
      " [8.20000000e+01 5.22005594e-02]\n",
      " [6.40000000e+01 0.00000000e+00]\n",
      " [5.00000000e+00 0.00000000e+00]\n",
      " [8.00000000e+00 0.00000000e+00]\n",
      " [5.70000000e+01 1.44971044e-01]\n",
      " [2.00000000e+00 0.00000000e+00]\n",
      " [4.20000000e+01 5.56920243e-02]\n",
      " [8.40000000e+01 0.00000000e+00]\n",
      " [7.40000000e+01 1.28995380e-01]\n",
      " [6.50000000e+01 0.00000000e+00]\n",
      " [3.90000000e+01 1.68342942e-02]\n",
      " [3.90000000e+01 1.68342942e-02]\n",
      " [6.30000000e+01 0.00000000e+00]\n",
      " [9.00000000e+00 0.00000000e+00]\n",
      " [2.60000000e+01 0.00000000e+00]\n",
      " [7.60000000e+01 0.00000000e+00]]\n"
     ]
    }
   ],
   "source": [
    "meanOfAllPoints, newContainerForCluster = divisiveHierarchyClustering_kMeans(averageAttachedLabel, 100)\n",
    "print(\"shape of centroids : ---->\", meanOfAllPoints.shape)\n",
    "print('\\n')\n",
    "print(\"centroids : ---->\", meanOfAllPoints)\n",
    "print('\\n')\n",
    "print('\\n')\n",
    "print(\"shape of newContainerForCluster : ---->\", newContainerForCluster.shape)\n",
    "print('\\n')\n",
    "print(\"newContainerForCluster : ---->\", newContainerForCluster)\n",
    "# DISPLAY"
   ]
  },
  {
   "cell_type": "code",
   "execution_count": 20,
   "id": "rubber-reviewer",
   "metadata": {
    "execution": {
     "iopub.execute_input": "2021-06-21T11:47:46.402450Z",
     "iopub.status.busy": "2021-06-21T11:47:46.401797Z",
     "iopub.status.idle": "2021-06-21T11:47:48.952699Z",
     "shell.execute_reply": "2021-06-21T11:47:48.951654Z",
     "shell.execute_reply.started": "2021-06-21T11:40:37.259424Z"
    },
    "papermill": {
     "duration": 2.576587,
     "end_time": "2021-06-21T11:47:48.952867",
     "exception": false,
     "start_time": "2021-06-21T11:47:46.376280",
     "status": "completed"
    },
    "tags": []
   },
   "outputs": [
    {
     "data": {
      "text/html": [
       "        <script type=\"text/javascript\">\n",
       "        window.PlotlyConfig = {MathJaxConfig: 'local'};\n",
       "        if (window.MathJax) {MathJax.Hub.Config({SVG: {font: \"STIX-Web\"}});}\n",
       "        if (typeof require !== 'undefined') {\n",
       "        require.undef(\"plotly\");\n",
       "        requirejs.config({\n",
       "            paths: {\n",
       "                'plotly': ['https://cdn.plot.ly/plotly-latest.min']\n",
       "            }\n",
       "        });\n",
       "        require(['plotly'], function(Plotly) {\n",
       "            window._Plotly = Plotly;\n",
       "        });\n",
       "        }\n",
       "        </script>\n",
       "        "
      ]
     },
     "metadata": {},
     "output_type": "display_data"
    },
    {
     "data": {
      "text/html": [
       "<div>                            <div id=\"0084eb95-2458-4df5-bce3-456344148935\" class=\"plotly-graph-div\" style=\"height:525px; width:100%;\"></div>            <script type=\"text/javascript\">                require([\"plotly\"], function(Plotly) {                    window.PLOTLYENV=window.PLOTLYENV || {};                                    if (document.getElementById(\"0084eb95-2458-4df5-bce3-456344148935\")) {                    Plotly.newPlot(                        \"0084eb95-2458-4df5-bce3-456344148935\",                        [{\"hovertemplate\": \"1=%{marker.size}<br>0=%{marker.color}<extra></extra>\", \"legendgroup\": \"0.0\", \"marker\": {\"color\": [96.0, 1.0, 94.0, 41.0, 28.0, 36.0, 77.0, 24.0, 27.0, 62.0, 0.0, 75.0, 7.0, 58.0, 91.0, 18.0, 35.0, 11.0, 21.0, 87.0, 43.0, 78.0, 16.0, 60.0, 66.0, 72.0, 99.0, 12.0, 51.0, 44.0, 37.0, 11.0, 40.0, 14.0, 67.0, 47.0, 13.0, 79.0, 88.0, 83.0, 59.0, 52.0, 73.0, 97.0, 69.0, 70.0, 56.0, 98.0, 23.0, 29.0, 22.0, 33.0, 61.0, 86.0, 31.0, 45.0, 48.0, 17.0, 55.0, 34.0, 20.0, 89.0, 10.0, 90.0, 93.0, 5.0, 50.0, 71.0, 15.0, 64.0, 5.0, 8.0, 2.0, 84.0, 65.0, 63.0, 9.0, 26.0, 76.0], \"coloraxis\": \"coloraxis\", \"opacity\": 0.7, \"size\": [0.0, 0.0, 0.0, 0.0, 0.0, 0.0, 0.0, 0.0, 0.0, 0.0, 0.0, 0.0, 0.0, 0.0, 0.0, 0.0, 0.0, 0.0, 0.0, 0.0, 0.0, 0.0, 0.0, 0.0, 0.0, 0.0, 0.0, 0.0, 0.0, 0.0, 0.0, 0.0, 0.0, 0.0, 0.0, 0.0, 0.0, 0.0, 0.0, 0.0, 0.0, 0.0, 0.0, 0.0, 0.0, 0.0, 0.0, 0.0, 0.0, 0.0, 0.0, 0.0, 0.0, 0.0, 0.0, 0.0, 0.0, 0.0, 0.0, 0.0, 0.0, 0.0, 0.0, 0.0, 0.0, 0.0, 0.0, 0.0, 0.0, 0.0, 0.0, 0.0, 0.0, 0.0, 0.0, 0.0, 0.0, 0.0, 0.0], \"sizemode\": \"area\", \"sizeref\": 0.0006447797403516286, \"symbol\": \"circle\"}, \"mode\": \"markers\", \"name\": \"0.0\", \"scene\": \"scene\", \"showlegend\": true, \"type\": \"scatter3d\", \"x\": [96.0, 1.0, 94.0, 41.0, 28.0, 36.0, 77.0, 24.0, 27.0, 62.0, 0.0, 75.0, 7.0, 58.0, 91.0, 18.0, 35.0, 11.0, 21.0, 87.0, 43.0, 78.0, 16.0, 60.0, 66.0, 72.0, 99.0, 12.0, 51.0, 44.0, 37.0, 11.0, 40.0, 14.0, 67.0, 47.0, 13.0, 79.0, 88.0, 83.0, 59.0, 52.0, 73.0, 97.0, 69.0, 70.0, 56.0, 98.0, 23.0, 29.0, 22.0, 33.0, 61.0, 86.0, 31.0, 45.0, 48.0, 17.0, 55.0, 34.0, 20.0, 89.0, 10.0, 90.0, 93.0, 5.0, 50.0, 71.0, 15.0, 64.0, 5.0, 8.0, 2.0, 84.0, 65.0, 63.0, 9.0, 26.0, 76.0], \"y\": [0.0, 0.0, 0.0, 0.0, 0.0, 0.0, 0.0, 0.0, 0.0, 0.0, 0.0, 0.0, 0.0, 0.0, 0.0, 0.0, 0.0, 0.0, 0.0, 0.0, 0.0, 0.0, 0.0, 0.0, 0.0, 0.0, 0.0, 0.0, 0.0, 0.0, 0.0, 0.0, 0.0, 0.0, 0.0, 0.0, 0.0, 0.0, 0.0, 0.0, 0.0, 0.0, 0.0, 0.0, 0.0, 0.0, 0.0, 0.0, 0.0, 0.0, 0.0, 0.0, 0.0, 0.0, 0.0, 0.0, 0.0, 0.0, 0.0, 0.0, 0.0, 0.0, 0.0, 0.0, 0.0, 0.0, 0.0, 0.0, 0.0, 0.0, 0.0, 0.0, 0.0, 0.0, 0.0, 0.0, 0.0, 0.0, 0.0], \"z\": [96.0, 1.0, 94.0, 41.0, 28.0, 36.0, 77.0, 24.0, 27.0, 62.0, 0.0, 75.0, 7.0, 58.0, 91.0, 18.0, 35.0, 11.0, 21.0, 87.0, 43.0, 78.0, 16.0, 60.0, 66.0, 72.0, 99.0, 12.0, 51.0, 44.0, 37.0, 11.0, 40.0, 14.0, 67.0, 47.0, 13.0, 79.0, 88.0, 83.0, 59.0, 52.0, 73.0, 97.0, 69.0, 70.0, 56.0, 98.0, 23.0, 29.0, 22.0, 33.0, 61.0, 86.0, 31.0, 45.0, 48.0, 17.0, 55.0, 34.0, 20.0, 89.0, 10.0, 90.0, 93.0, 5.0, 50.0, 71.0, 15.0, 64.0, 5.0, 8.0, 2.0, 84.0, 65.0, 63.0, 9.0, 26.0, 76.0]}, {\"hovertemplate\": \"1=%{marker.size}<br>0=%{marker.color}<extra></extra>\", \"legendgroup\": \"0.08156337413580723\", \"marker\": {\"color\": [81.0, 81.0, 19.0, 19.0], \"coloraxis\": \"coloraxis\", \"opacity\": 0.7, \"size\": [0.08156337413580723, 0.08156337413580723, 0.08156337413580723, 0.08156337413580723], \"sizemode\": \"area\", \"sizeref\": 0.0006447797403516286, \"symbol\": \"diamond\"}, \"mode\": \"markers\", \"name\": \"0.08156337413580723\", \"scene\": \"scene\", \"showlegend\": true, \"type\": \"scatter3d\", \"x\": [81.0, 81.0, 19.0, 19.0], \"y\": [0.08156337413580723, 0.08156337413580723, 0.08156337413580723, 0.08156337413580723], \"z\": [81.0, 81.0, 19.0, 19.0]}, {\"hovertemplate\": \"1=%{marker.size}<br>0=%{marker.color}<extra></extra>\", \"legendgroup\": \"0.11647258937457401\", \"marker\": {\"color\": [25.0, 25.0], \"coloraxis\": \"coloraxis\", \"opacity\": 0.7, \"size\": [0.11647258937457401, 0.11647258937457401], \"sizemode\": \"area\", \"sizeref\": 0.0006447797403516286, \"symbol\": \"square\"}, \"mode\": \"markers\", \"name\": \"0.11647258937457401\", \"scene\": \"scene\", \"showlegend\": true, \"type\": \"scatter3d\", \"x\": [25.0, 25.0], \"y\": [0.11647258937457401, 0.11647258937457401], \"z\": [25.0, 25.0]}, {\"hovertemplate\": \"1=%{marker.size}<br>0=%{marker.color}<extra></extra>\", \"legendgroup\": \"0.07366841062792732\", \"marker\": {\"color\": [30.0], \"coloraxis\": \"coloraxis\", \"opacity\": 0.7, \"size\": [0.07366841062792732], \"sizemode\": \"area\", \"sizeref\": 0.0006447797403516286, \"symbol\": \"x\"}, \"mode\": \"markers\", \"name\": \"0.07366841062792732\", \"scene\": \"scene\", \"showlegend\": true, \"type\": \"scatter3d\", \"x\": [30.0], \"y\": [0.07366841062792732], \"z\": [30.0]}, {\"hovertemplate\": \"1=%{marker.size}<br>0=%{marker.color}<extra></extra>\", \"legendgroup\": \"0.07366841062792727\", \"marker\": {\"color\": [30.0], \"coloraxis\": \"coloraxis\", \"opacity\": 0.7, \"size\": [0.07366841062792727], \"sizemode\": \"area\", \"sizeref\": 0.0006447797403516286, \"symbol\": \"cross\"}, \"mode\": \"markers\", \"name\": \"0.07366841062792727\", \"scene\": \"scene\", \"showlegend\": true, \"type\": \"scatter3d\", \"x\": [30.0], \"y\": [0.07366841062792727], \"z\": [30.0]}, {\"hovertemplate\": \"1=%{marker.size}<br>0=%{marker.color}<extra></extra>\", \"legendgroup\": \"0.05386544050107522\", \"marker\": {\"color\": [85.0], \"coloraxis\": \"coloraxis\", \"opacity\": 0.7, \"size\": [0.05386544050107522], \"sizemode\": \"area\", \"sizeref\": 0.0006447797403516286, \"symbol\": \"circle\"}, \"mode\": \"markers\", \"name\": \"0.05386544050107522\", \"scene\": \"scene\", \"showlegend\": true, \"type\": \"scatter3d\", \"x\": [85.0], \"y\": [0.05386544050107522], \"z\": [85.0]}, {\"hovertemplate\": \"1=%{marker.size}<br>0=%{marker.color}<extra></extra>\", \"legendgroup\": \"0.05386544050107519\", \"marker\": {\"color\": [85.0], \"coloraxis\": \"coloraxis\", \"opacity\": 0.7, \"size\": [0.05386544050107519], \"sizemode\": \"area\", \"sizeref\": 0.0006447797403516286, \"symbol\": \"diamond\"}, \"mode\": \"markers\", \"name\": \"0.05386544050107519\", \"scene\": \"scene\", \"showlegend\": true, \"type\": \"scatter3d\", \"x\": [85.0], \"y\": [0.05386544050107519], \"z\": [85.0]}, {\"hovertemplate\": \"1=%{marker.size}<br>0=%{marker.color}<extra></extra>\", \"legendgroup\": \"0.06379197772084017\", \"marker\": {\"color\": [4.0, 4.0], \"coloraxis\": \"coloraxis\", \"opacity\": 0.7, \"size\": [0.06379197772084017, 0.06379197772084017], \"sizemode\": \"area\", \"sizeref\": 0.0006447797403516286, \"symbol\": \"square\"}, \"mode\": \"markers\", \"name\": \"0.06379197772084017\", \"scene\": \"scene\", \"showlegend\": true, \"type\": \"scatter3d\", \"x\": [4.0, 4.0], \"y\": [0.06379197772084017, 0.06379197772084017], \"z\": [4.0, 4.0]}, {\"hovertemplate\": \"1=%{marker.size}<br>0=%{marker.color}<extra></extra>\", \"legendgroup\": \"0.02836187298505544\", \"marker\": {\"color\": [49.0], \"coloraxis\": \"coloraxis\", \"opacity\": 0.7, \"size\": [0.02836187298505544], \"sizemode\": \"area\", \"sizeref\": 0.0006447797403516286, \"symbol\": \"x\"}, \"mode\": \"markers\", \"name\": \"0.02836187298505544\", \"scene\": \"scene\", \"showlegend\": true, \"type\": \"scatter3d\", \"x\": [49.0], \"y\": [0.02836187298505544], \"z\": [49.0]}, {\"hovertemplate\": \"1=%{marker.size}<br>0=%{marker.color}<extra></extra>\", \"legendgroup\": \"0.02836187298505543\", \"marker\": {\"color\": [49.0], \"coloraxis\": \"coloraxis\", \"opacity\": 0.7, \"size\": [0.02836187298505543], \"sizemode\": \"area\", \"sizeref\": 0.0006447797403516286, \"symbol\": \"cross\"}, \"mode\": \"markers\", \"name\": \"0.02836187298505543\", \"scene\": \"scene\", \"showlegend\": true, \"type\": \"scatter3d\", \"x\": [49.0], \"y\": [0.02836187298505543], \"z\": [49.0]}, {\"hovertemplate\": \"1=%{marker.size}<br>0=%{marker.color}<extra></extra>\", \"legendgroup\": \"0.1336600935827599\", \"marker\": {\"color\": [53.0], \"coloraxis\": \"coloraxis\", \"opacity\": 0.7, \"size\": [0.1336600935827599], \"sizemode\": \"area\", \"sizeref\": 0.0006447797403516286, \"symbol\": \"circle\"}, \"mode\": \"markers\", \"name\": \"0.1336600935827599\", \"scene\": \"scene\", \"showlegend\": true, \"type\": \"scatter3d\", \"x\": [53.0], \"y\": [0.1336600935827599], \"z\": [53.0]}, {\"hovertemplate\": \"1=%{marker.size}<br>0=%{marker.color}<extra></extra>\", \"legendgroup\": \"0.052200559446916636\", \"marker\": {\"color\": [32.0], \"coloraxis\": \"coloraxis\", \"opacity\": 0.7, \"size\": [0.052200559446916636], \"sizemode\": \"area\", \"sizeref\": 0.0006447797403516286, \"symbol\": \"diamond\"}, \"mode\": \"markers\", \"name\": \"0.052200559446916636\", \"scene\": \"scene\", \"showlegend\": true, \"type\": \"scatter3d\", \"x\": [32.0], \"y\": [0.052200559446916636], \"z\": [32.0]}, {\"hovertemplate\": \"1=%{marker.size}<br>0=%{marker.color}<extra></extra>\", \"legendgroup\": \"0.05220055944691661\", \"marker\": {\"color\": [80.0, 82.0, 82.0], \"coloraxis\": \"coloraxis\", \"opacity\": 0.7, \"size\": [0.05220055944691661, 0.05220055944691661, 0.05220055944691661], \"sizemode\": \"area\", \"sizeref\": 0.0006447797403516286, \"symbol\": \"square\"}, \"mode\": \"markers\", \"name\": \"0.05220055944691661\", \"scene\": \"scene\", \"showlegend\": true, \"type\": \"scatter3d\", \"x\": [80.0, 82.0, 82.0], \"y\": [0.05220055944691661, 0.05220055944691661, 0.05220055944691661], \"z\": [80.0, 82.0, 82.0]}, {\"hovertemplate\": \"1=%{marker.size}<br>0=%{marker.color}<extra></extra>\", \"legendgroup\": \"0.03625038850480321\", \"marker\": {\"color\": [6.0, 6.0], \"coloraxis\": \"coloraxis\", \"opacity\": 0.7, \"size\": [0.03625038850480321, 0.03625038850480321], \"sizemode\": \"area\", \"sizeref\": 0.0006447797403516286, \"symbol\": \"x\"}, \"mode\": \"markers\", \"name\": \"0.03625038850480321\", \"scene\": \"scene\", \"showlegend\": true, \"type\": \"scatter3d\", \"x\": [6.0, 6.0], \"y\": [0.03625038850480321, 0.03625038850480321], \"z\": [6.0, 6.0]}, {\"hovertemplate\": \"1=%{marker.size}<br>0=%{marker.color}<extra></extra>\", \"legendgroup\": \"0.05220055944691658\", \"marker\": {\"color\": [32.0], \"coloraxis\": \"coloraxis\", \"opacity\": 0.7, \"size\": [0.05220055944691658], \"sizemode\": \"area\", \"sizeref\": 0.0006447797403516286, \"symbol\": \"cross\"}, \"mode\": \"markers\", \"name\": \"0.05220055944691658\", \"scene\": \"scene\", \"showlegend\": true, \"type\": \"scatter3d\", \"x\": [32.0], \"y\": [0.05220055944691658], \"z\": [32.0]}, {\"hovertemplate\": \"1=%{marker.size}<br>0=%{marker.color}<extra></extra>\", \"legendgroup\": \"0.05220055944691662\", \"marker\": {\"color\": [80.0], \"coloraxis\": \"coloraxis\", \"opacity\": 0.7, \"size\": [0.05220055944691662], \"sizemode\": \"area\", \"sizeref\": 0.0006447797403516286, \"symbol\": \"circle\"}, \"mode\": \"markers\", \"name\": \"0.05220055944691662\", \"scene\": \"scene\", \"showlegend\": true, \"type\": \"scatter3d\", \"x\": [80.0], \"y\": [0.05220055944691662], \"z\": [80.0]}, {\"hovertemplate\": \"1=%{marker.size}<br>0=%{marker.color}<extra></extra>\", \"legendgroup\": \"0.13902286701564723\", \"marker\": {\"color\": [3.0], \"coloraxis\": \"coloraxis\", \"opacity\": 0.7, \"size\": [0.13902286701564723], \"sizemode\": \"area\", \"sizeref\": 0.0006447797403516286, \"symbol\": \"diamond\"}, \"mode\": \"markers\", \"name\": \"0.13902286701564723\", \"scene\": \"scene\", \"showlegend\": true, \"type\": \"scatter3d\", \"x\": [3.0], \"y\": [0.13902286701564723], \"z\": [3.0]}, {\"hovertemplate\": \"1=%{marker.size}<br>0=%{marker.color}<extra></extra>\", \"legendgroup\": \"0.06922362882941911\", \"marker\": {\"color\": [68.0], \"coloraxis\": \"coloraxis\", \"opacity\": 0.7, \"size\": [0.06922362882941911], \"sizemode\": \"area\", \"sizeref\": 0.0006447797403516286, \"symbol\": \"square\"}, \"mode\": \"markers\", \"name\": \"0.06922362882941911\", \"scene\": \"scene\", \"showlegend\": true, \"type\": \"scatter3d\", \"x\": [68.0], \"y\": [0.06922362882941911], \"z\": [68.0]}, {\"hovertemplate\": \"1=%{marker.size}<br>0=%{marker.color}<extra></extra>\", \"legendgroup\": \"0.06922362882941908\", \"marker\": {\"color\": [68.0], \"coloraxis\": \"coloraxis\", \"opacity\": 0.7, \"size\": [0.06922362882941908], \"sizemode\": \"area\", \"sizeref\": 0.0006447797403516286, \"symbol\": \"x\"}, \"mode\": \"markers\", \"name\": \"0.06922362882941908\", \"scene\": \"scene\", \"showlegend\": true, \"type\": \"scatter3d\", \"x\": [68.0], \"y\": [0.06922362882941908], \"z\": [68.0]}, {\"hovertemplate\": \"1=%{marker.size}<br>0=%{marker.color}<extra></extra>\", \"legendgroup\": \"0.05608141655378588\", \"marker\": {\"color\": [92.0, 92.0], \"coloraxis\": \"coloraxis\", \"opacity\": 0.7, \"size\": [0.05608141655378588, 0.05608141655378588], \"sizemode\": \"area\", \"sizeref\": 0.0006447797403516286, \"symbol\": \"cross\"}, \"mode\": \"markers\", \"name\": \"0.05608141655378588\", \"scene\": \"scene\", \"showlegend\": true, \"type\": \"scatter3d\", \"x\": [92.0, 92.0], \"y\": [0.05608141655378588, 0.05608141655378588], \"z\": [92.0, 92.0]}, {\"hovertemplate\": \"1=%{marker.size}<br>0=%{marker.color}<extra></extra>\", \"legendgroup\": \"0.12246057875720384\", \"marker\": {\"color\": [46.0, 46.0], \"coloraxis\": \"coloraxis\", \"opacity\": 0.7, \"size\": [0.12246057875720384, 0.12246057875720384], \"sizemode\": \"area\", \"sizeref\": 0.0006447797403516286, \"symbol\": \"circle\"}, \"mode\": \"markers\", \"name\": \"0.12246057875720384\", \"scene\": \"scene\", \"showlegend\": true, \"type\": \"scatter3d\", \"x\": [46.0, 46.0], \"y\": [0.12246057875720384, 0.12246057875720384], \"z\": [46.0, 46.0]}, {\"hovertemplate\": \"1=%{marker.size}<br>0=%{marker.color}<extra></extra>\", \"legendgroup\": \"0.17157023333454713\", \"marker\": {\"color\": [74.0], \"coloraxis\": \"coloraxis\", \"opacity\": 0.7, \"size\": [0.17157023333454713], \"sizemode\": \"area\", \"sizeref\": 0.0006447797403516286, \"symbol\": \"diamond\"}, \"mode\": \"markers\", \"name\": \"0.17157023333454713\", \"scene\": \"scene\", \"showlegend\": true, \"type\": \"scatter3d\", \"x\": [74.0], \"y\": [0.17157023333454713], \"z\": [74.0]}, {\"hovertemplate\": \"1=%{marker.size}<br>0=%{marker.color}<extra></extra>\", \"legendgroup\": \"0.14497104430170007\", \"marker\": {\"color\": [57.0], \"coloraxis\": \"coloraxis\", \"opacity\": 0.7, \"size\": [0.14497104430170007], \"sizemode\": \"area\", \"sizeref\": 0.0006447797403516286, \"symbol\": \"square\"}, \"mode\": \"markers\", \"name\": \"0.14497104430170007\", \"scene\": \"scene\", \"showlegend\": true, \"type\": \"scatter3d\", \"x\": [57.0], \"y\": [0.14497104430170007], \"z\": [57.0]}, {\"hovertemplate\": \"1=%{marker.size}<br>0=%{marker.color}<extra></extra>\", \"legendgroup\": \"0.03576306609567795\", \"marker\": {\"color\": [42.0], \"coloraxis\": \"coloraxis\", \"opacity\": 0.7, \"size\": [0.03576306609567795], \"sizemode\": \"area\", \"sizeref\": 0.0006447797403516286, \"symbol\": \"x\"}, \"mode\": \"markers\", \"name\": \"0.03576306609567795\", \"scene\": \"scene\", \"showlegend\": true, \"type\": \"scatter3d\", \"x\": [42.0], \"y\": [0.03576306609567795], \"z\": [42.0]}, {\"hovertemplate\": \"1=%{marker.size}<br>0=%{marker.color}<extra></extra>\", \"legendgroup\": \"0.13902286701564714\", \"marker\": {\"color\": [3.0], \"coloraxis\": \"coloraxis\", \"opacity\": 0.7, \"size\": [0.13902286701564714], \"sizemode\": \"area\", \"sizeref\": 0.0006447797403516286, \"symbol\": \"cross\"}, \"mode\": \"markers\", \"name\": \"0.13902286701564714\", \"scene\": \"scene\", \"showlegend\": true, \"type\": \"scatter3d\", \"x\": [3.0], \"y\": [0.13902286701564714], \"z\": [3.0]}, {\"hovertemplate\": \"1=%{marker.size}<br>0=%{marker.color}<extra></extra>\", \"legendgroup\": \"0.06204509611131334\", \"marker\": {\"color\": [42.0], \"coloraxis\": \"coloraxis\", \"opacity\": 0.7, \"size\": [0.06204509611131334], \"sizemode\": \"area\", \"sizeref\": 0.0006447797403516286, \"symbol\": \"circle\"}, \"mode\": \"markers\", \"name\": \"0.06204509611131334\", \"scene\": \"scene\", \"showlegend\": true, \"type\": \"scatter3d\", \"x\": [42.0], \"y\": [0.06204509611131334], \"z\": [42.0]}, {\"hovertemplate\": \"1=%{marker.size}<br>0=%{marker.color}<extra></extra>\", \"legendgroup\": \"0.1336600935827598\", \"marker\": {\"color\": [53.0], \"coloraxis\": \"coloraxis\", \"opacity\": 0.7, \"size\": [0.1336600935827598], \"sizemode\": \"area\", \"sizeref\": 0.0006447797403516286, \"symbol\": \"diamond\"}, \"mode\": \"markers\", \"name\": \"0.1336600935827598\", \"scene\": \"scene\", \"showlegend\": true, \"type\": \"scatter3d\", \"x\": [53.0], \"y\": [0.1336600935827598], \"z\": [53.0]}, {\"hovertemplate\": \"1=%{marker.size}<br>0=%{marker.color}<extra></extra>\", \"legendgroup\": \"0.14551941215755912\", \"marker\": {\"color\": [74.0], \"coloraxis\": \"coloraxis\", \"opacity\": 0.7, \"size\": [0.14551941215755912], \"sizemode\": \"area\", \"sizeref\": 0.0006447797403516286, \"symbol\": \"square\"}, \"mode\": \"markers\", \"name\": \"0.14551941215755912\", \"scene\": \"scene\", \"showlegend\": true, \"type\": \"scatter3d\", \"x\": [74.0], \"y\": [0.14551941215755912], \"z\": [74.0]}, {\"hovertemplate\": \"1=%{marker.size}<br>0=%{marker.color}<extra></extra>\", \"legendgroup\": \"0.15249303204217612\", \"marker\": {\"color\": [38.0], \"coloraxis\": \"coloraxis\", \"opacity\": 0.7, \"size\": [0.15249303204217612], \"sizemode\": \"area\", \"sizeref\": 0.0006447797403516286, \"symbol\": \"x\"}, \"mode\": \"markers\", \"name\": \"0.15249303204217612\", \"scene\": \"scene\", \"showlegend\": true, \"type\": \"scatter3d\", \"x\": [38.0], \"y\": [0.15249303204217612], \"z\": [38.0]}, {\"hovertemplate\": \"1=%{marker.size}<br>0=%{marker.color}<extra></extra>\", \"legendgroup\": \"0.15249303204217632\", \"marker\": {\"color\": [38.0], \"coloraxis\": \"coloraxis\", \"opacity\": 0.7, \"size\": [0.15249303204217632], \"sizemode\": \"area\", \"sizeref\": 0.0006447797403516286, \"symbol\": \"cross\"}, \"mode\": \"markers\", \"name\": \"0.15249303204217632\", \"scene\": \"scene\", \"showlegend\": true, \"type\": \"scatter3d\", \"x\": [38.0], \"y\": [0.15249303204217632], \"z\": [38.0]}, {\"hovertemplate\": \"1=%{marker.size}<br>0=%{marker.color}<extra></extra>\", \"legendgroup\": \"0.12496309794013233\", \"marker\": {\"color\": [54.0], \"coloraxis\": \"coloraxis\", \"opacity\": 0.7, \"size\": [0.12496309794013233], \"sizemode\": \"area\", \"sizeref\": 0.0006447797403516286, \"symbol\": \"circle\"}, \"mode\": \"markers\", \"name\": \"0.12496309794013233\", \"scene\": \"scene\", \"showlegend\": true, \"type\": \"scatter3d\", \"x\": [54.0], \"y\": [0.12496309794013233], \"z\": [54.0]}, {\"hovertemplate\": \"1=%{marker.size}<br>0=%{marker.color}<extra></extra>\", \"legendgroup\": \"0.20507644743082096\", \"marker\": {\"color\": [54.0], \"coloraxis\": \"coloraxis\", \"opacity\": 0.7, \"size\": [0.20507644743082096], \"sizemode\": \"area\", \"sizeref\": 0.0006447797403516286, \"symbol\": \"diamond\"}, \"mode\": \"markers\", \"name\": \"0.20507644743082096\", \"scene\": \"scene\", \"showlegend\": true, \"type\": \"scatter3d\", \"x\": [54.0], \"y\": [0.20507644743082096], \"z\": [54.0]}, {\"hovertemplate\": \"1=%{marker.size}<br>0=%{marker.color}<extra></extra>\", \"legendgroup\": \"0.20890863587392766\", \"marker\": {\"color\": [54.0], \"coloraxis\": \"coloraxis\", \"opacity\": 0.7, \"size\": [0.20890863587392766], \"sizemode\": \"area\", \"sizeref\": 0.0006447797403516286, \"symbol\": \"square\"}, \"mode\": \"markers\", \"name\": \"0.20890863587392766\", \"scene\": \"scene\", \"showlegend\": true, \"type\": \"scatter3d\", \"x\": [54.0], \"y\": [0.20890863587392766], \"z\": [54.0]}, {\"hovertemplate\": \"1=%{marker.size}<br>0=%{marker.color}<extra></extra>\", \"legendgroup\": \"0.08344051005249578\", \"marker\": {\"color\": [95.0, 95.0], \"coloraxis\": \"coloraxis\", \"opacity\": 0.7, \"size\": [0.08344051005249578, 0.08344051005249578], \"sizemode\": \"area\", \"sizeref\": 0.0006447797403516286, \"symbol\": \"x\"}, \"mode\": \"markers\", \"name\": \"0.08344051005249578\", \"scene\": \"scene\", \"showlegend\": true, \"type\": \"scatter3d\", \"x\": [95.0, 95.0], \"y\": [0.08344051005249578, 0.08344051005249578], \"z\": [95.0, 95.0]}, {\"hovertemplate\": \"1=%{marker.size}<br>0=%{marker.color}<extra></extra>\", \"legendgroup\": \"0.07148386881897513\", \"marker\": {\"color\": [95.0], \"coloraxis\": \"coloraxis\", \"opacity\": 0.7, \"size\": [0.07148386881897513], \"sizemode\": \"area\", \"sizeref\": 0.0006447797403516286, \"symbol\": \"cross\"}, \"mode\": \"markers\", \"name\": \"0.07148386881897513\", \"scene\": \"scene\", \"showlegend\": true, \"type\": \"scatter3d\", \"x\": [95.0], \"y\": [0.07148386881897513], \"z\": [95.0]}, {\"hovertemplate\": \"1=%{marker.size}<br>0=%{marker.color}<extra></extra>\", \"legendgroup\": \"0.07148386881897516\", \"marker\": {\"color\": [95.0], \"coloraxis\": \"coloraxis\", \"opacity\": 0.7, \"size\": [0.07148386881897516], \"sizemode\": \"area\", \"sizeref\": 0.0006447797403516286, \"symbol\": \"circle\"}, \"mode\": \"markers\", \"name\": \"0.07148386881897516\", \"scene\": \"scene\", \"showlegend\": true, \"type\": \"scatter3d\", \"x\": [95.0], \"y\": [0.07148386881897516], \"z\": [95.0]}, {\"hovertemplate\": \"1=%{marker.size}<br>0=%{marker.color}<extra></extra>\", \"legendgroup\": \"0.1449710443017\", \"marker\": {\"color\": [57.0], \"coloraxis\": \"coloraxis\", \"opacity\": 0.7, \"size\": [0.1449710443017], \"sizemode\": \"area\", \"sizeref\": 0.0006447797403516286, \"symbol\": \"diamond\"}, \"mode\": \"markers\", \"name\": \"0.1449710443017\", \"scene\": \"scene\", \"showlegend\": true, \"type\": \"scatter3d\", \"x\": [57.0], \"y\": [0.1449710443017], \"z\": [57.0]}, {\"hovertemplate\": \"1=%{marker.size}<br>0=%{marker.color}<extra></extra>\", \"legendgroup\": \"0.055692024329846344\", \"marker\": {\"color\": [42.0], \"coloraxis\": \"coloraxis\", \"opacity\": 0.7, \"size\": [0.055692024329846344], \"sizemode\": \"area\", \"sizeref\": 0.0006447797403516286, \"symbol\": \"square\"}, \"mode\": \"markers\", \"name\": \"0.055692024329846344\", \"scene\": \"scene\", \"showlegend\": true, \"type\": \"scatter3d\", \"x\": [42.0], \"y\": [0.055692024329846344], \"z\": [42.0]}, {\"hovertemplate\": \"1=%{marker.size}<br>0=%{marker.color}<extra></extra>\", \"legendgroup\": \"0.12899537962433882\", \"marker\": {\"color\": [74.0], \"coloraxis\": \"coloraxis\", \"opacity\": 0.7, \"size\": [0.12899537962433882], \"sizemode\": \"area\", \"sizeref\": 0.0006447797403516286, \"symbol\": \"x\"}, \"mode\": \"markers\", \"name\": \"0.12899537962433882\", \"scene\": \"scene\", \"showlegend\": true, \"type\": \"scatter3d\", \"x\": [74.0], \"y\": [0.12899537962433882], \"z\": [74.0]}, {\"hovertemplate\": \"1=%{marker.size}<br>0=%{marker.color}<extra></extra>\", \"legendgroup\": \"0.016834294243324135\", \"marker\": {\"color\": [39.0, 39.0], \"coloraxis\": \"coloraxis\", \"opacity\": 0.7, \"size\": [0.016834294243324135, 0.016834294243324135], \"sizemode\": \"area\", \"sizeref\": 0.0006447797403516286, \"symbol\": \"cross\"}, \"mode\": \"markers\", \"name\": \"0.016834294243324135\", \"scene\": \"scene\", \"showlegend\": true, \"type\": \"scatter3d\", \"x\": [39.0, 39.0], \"y\": [0.016834294243324135, 0.016834294243324135], \"z\": [39.0, 39.0]}],                        {\"coloraxis\": {\"colorbar\": {\"title\": {\"text\": \"0\"}}, \"colorscale\": [[0.0, \"#0d0887\"], [0.1111111111111111, \"#46039f\"], [0.2222222222222222, \"#7201a8\"], [0.3333333333333333, \"#9c179e\"], [0.4444444444444444, \"#bd3786\"], [0.5555555555555556, \"#d8576b\"], [0.6666666666666666, \"#ed7953\"], [0.7777777777777778, \"#fb9f3a\"], [0.8888888888888888, \"#fdca26\"], [1.0, \"#f0f921\"]]}, \"legend\": {\"itemsizing\": \"constant\", \"title\": {\"text\": \"1\"}, \"tracegroupgap\": 0}, \"margin\": {\"b\": 0, \"l\": 0, \"r\": 0, \"t\": 0}, \"scene\": {\"domain\": {\"x\": [0.0, 1.0], \"y\": [0.0, 1.0]}, \"xaxis\": {\"title\": {\"text\": \"0\"}}, \"yaxis\": {\"categoryarray\": [0.0, 0.08156337413580723, 0.11647258937457401, 0.07366841062792732, 0.07366841062792727, 0.05386544050107522, 0.05386544050107519, 0.06379197772084017, 0.02836187298505544, 0.02836187298505543, 0.1336600935827599, 0.052200559446916636, 0.05220055944691661, 0.03625038850480321, 0.05220055944691658, 0.05220055944691662, 0.13902286701564723, 0.06922362882941911, 0.06922362882941908, 0.05608141655378588, 0.12246057875720384, 0.17157023333454713, 0.14497104430170007, 0.03576306609567795, 0.13902286701564714, 0.06204509611131334, 0.1336600935827598, 0.14551941215755912, 0.15249303204217612, 0.15249303204217632, 0.12496309794013233, 0.20507644743082096, 0.20890863587392766, 0.08344051005249578, 0.07148386881897513, 0.07148386881897516, 0.1449710443017, 0.055692024329846344, 0.12899537962433882, 0.016834294243324135], \"categoryorder\": \"array\", \"title\": {\"text\": \"1\"}}, \"zaxis\": {\"title\": {\"text\": \"0\"}}}, \"template\": {\"data\": {\"bar\": [{\"error_x\": {\"color\": \"#2a3f5f\"}, \"error_y\": {\"color\": \"#2a3f5f\"}, \"marker\": {\"line\": {\"color\": \"#E5ECF6\", \"width\": 0.5}}, \"type\": \"bar\"}], \"barpolar\": [{\"marker\": {\"line\": {\"color\": \"#E5ECF6\", \"width\": 0.5}}, \"type\": \"barpolar\"}], \"carpet\": [{\"aaxis\": {\"endlinecolor\": \"#2a3f5f\", \"gridcolor\": \"white\", \"linecolor\": \"white\", \"minorgridcolor\": \"white\", \"startlinecolor\": \"#2a3f5f\"}, \"baxis\": {\"endlinecolor\": \"#2a3f5f\", \"gridcolor\": \"white\", \"linecolor\": \"white\", \"minorgridcolor\": \"white\", \"startlinecolor\": \"#2a3f5f\"}, \"type\": \"carpet\"}], \"choropleth\": [{\"colorbar\": {\"outlinewidth\": 0, \"ticks\": \"\"}, \"type\": \"choropleth\"}], \"contour\": [{\"colorbar\": {\"outlinewidth\": 0, \"ticks\": \"\"}, \"colorscale\": [[0.0, \"#0d0887\"], [0.1111111111111111, \"#46039f\"], [0.2222222222222222, \"#7201a8\"], [0.3333333333333333, \"#9c179e\"], [0.4444444444444444, \"#bd3786\"], [0.5555555555555556, \"#d8576b\"], [0.6666666666666666, \"#ed7953\"], [0.7777777777777778, \"#fb9f3a\"], [0.8888888888888888, \"#fdca26\"], [1.0, \"#f0f921\"]], \"type\": \"contour\"}], \"contourcarpet\": [{\"colorbar\": {\"outlinewidth\": 0, \"ticks\": \"\"}, \"type\": \"contourcarpet\"}], \"heatmap\": [{\"colorbar\": {\"outlinewidth\": 0, \"ticks\": \"\"}, \"colorscale\": [[0.0, \"#0d0887\"], [0.1111111111111111, \"#46039f\"], [0.2222222222222222, \"#7201a8\"], [0.3333333333333333, \"#9c179e\"], [0.4444444444444444, \"#bd3786\"], [0.5555555555555556, \"#d8576b\"], [0.6666666666666666, \"#ed7953\"], [0.7777777777777778, \"#fb9f3a\"], [0.8888888888888888, \"#fdca26\"], [1.0, \"#f0f921\"]], \"type\": \"heatmap\"}], \"heatmapgl\": [{\"colorbar\": {\"outlinewidth\": 0, \"ticks\": \"\"}, \"colorscale\": [[0.0, \"#0d0887\"], [0.1111111111111111, \"#46039f\"], [0.2222222222222222, \"#7201a8\"], [0.3333333333333333, \"#9c179e\"], [0.4444444444444444, \"#bd3786\"], [0.5555555555555556, \"#d8576b\"], [0.6666666666666666, \"#ed7953\"], [0.7777777777777778, \"#fb9f3a\"], [0.8888888888888888, \"#fdca26\"], [1.0, \"#f0f921\"]], \"type\": \"heatmapgl\"}], \"histogram\": [{\"marker\": {\"colorbar\": {\"outlinewidth\": 0, \"ticks\": \"\"}}, \"type\": \"histogram\"}], \"histogram2d\": [{\"colorbar\": {\"outlinewidth\": 0, \"ticks\": \"\"}, \"colorscale\": [[0.0, \"#0d0887\"], [0.1111111111111111, \"#46039f\"], [0.2222222222222222, \"#7201a8\"], [0.3333333333333333, \"#9c179e\"], [0.4444444444444444, \"#bd3786\"], [0.5555555555555556, \"#d8576b\"], [0.6666666666666666, \"#ed7953\"], [0.7777777777777778, \"#fb9f3a\"], [0.8888888888888888, \"#fdca26\"], [1.0, \"#f0f921\"]], \"type\": \"histogram2d\"}], \"histogram2dcontour\": [{\"colorbar\": {\"outlinewidth\": 0, \"ticks\": \"\"}, \"colorscale\": [[0.0, \"#0d0887\"], [0.1111111111111111, \"#46039f\"], [0.2222222222222222, \"#7201a8\"], [0.3333333333333333, \"#9c179e\"], [0.4444444444444444, \"#bd3786\"], [0.5555555555555556, \"#d8576b\"], [0.6666666666666666, \"#ed7953\"], [0.7777777777777778, \"#fb9f3a\"], [0.8888888888888888, \"#fdca26\"], [1.0, \"#f0f921\"]], \"type\": \"histogram2dcontour\"}], \"mesh3d\": [{\"colorbar\": {\"outlinewidth\": 0, \"ticks\": \"\"}, \"type\": \"mesh3d\"}], \"parcoords\": [{\"line\": {\"colorbar\": {\"outlinewidth\": 0, \"ticks\": \"\"}}, \"type\": \"parcoords\"}], \"pie\": [{\"automargin\": true, \"type\": \"pie\"}], \"scatter\": [{\"marker\": {\"colorbar\": {\"outlinewidth\": 0, \"ticks\": \"\"}}, \"type\": \"scatter\"}], \"scatter3d\": [{\"line\": {\"colorbar\": {\"outlinewidth\": 0, \"ticks\": \"\"}}, \"marker\": {\"colorbar\": {\"outlinewidth\": 0, \"ticks\": \"\"}}, \"type\": \"scatter3d\"}], \"scattercarpet\": [{\"marker\": {\"colorbar\": {\"outlinewidth\": 0, \"ticks\": \"\"}}, \"type\": \"scattercarpet\"}], \"scattergeo\": [{\"marker\": {\"colorbar\": {\"outlinewidth\": 0, \"ticks\": \"\"}}, \"type\": \"scattergeo\"}], \"scattergl\": [{\"marker\": {\"colorbar\": {\"outlinewidth\": 0, \"ticks\": \"\"}}, \"type\": \"scattergl\"}], \"scattermapbox\": [{\"marker\": {\"colorbar\": {\"outlinewidth\": 0, \"ticks\": \"\"}}, \"type\": \"scattermapbox\"}], \"scatterpolar\": [{\"marker\": {\"colorbar\": {\"outlinewidth\": 0, \"ticks\": \"\"}}, \"type\": \"scatterpolar\"}], \"scatterpolargl\": [{\"marker\": {\"colorbar\": {\"outlinewidth\": 0, \"ticks\": \"\"}}, \"type\": \"scatterpolargl\"}], \"scatterternary\": [{\"marker\": {\"colorbar\": {\"outlinewidth\": 0, \"ticks\": \"\"}}, \"type\": \"scatterternary\"}], \"surface\": [{\"colorbar\": {\"outlinewidth\": 0, \"ticks\": \"\"}, \"colorscale\": [[0.0, \"#0d0887\"], [0.1111111111111111, \"#46039f\"], [0.2222222222222222, \"#7201a8\"], [0.3333333333333333, \"#9c179e\"], [0.4444444444444444, \"#bd3786\"], [0.5555555555555556, \"#d8576b\"], [0.6666666666666666, \"#ed7953\"], [0.7777777777777778, \"#fb9f3a\"], [0.8888888888888888, \"#fdca26\"], [1.0, \"#f0f921\"]], \"type\": \"surface\"}], \"table\": [{\"cells\": {\"fill\": {\"color\": \"#EBF0F8\"}, \"line\": {\"color\": \"white\"}}, \"header\": {\"fill\": {\"color\": \"#C8D4E3\"}, \"line\": {\"color\": \"white\"}}, \"type\": \"table\"}]}, \"layout\": {\"annotationdefaults\": {\"arrowcolor\": \"#2a3f5f\", \"arrowhead\": 0, \"arrowwidth\": 1}, \"autotypenumbers\": \"strict\", \"coloraxis\": {\"colorbar\": {\"outlinewidth\": 0, \"ticks\": \"\"}}, \"colorscale\": {\"diverging\": [[0, \"#8e0152\"], [0.1, \"#c51b7d\"], [0.2, \"#de77ae\"], [0.3, \"#f1b6da\"], [0.4, \"#fde0ef\"], [0.5, \"#f7f7f7\"], [0.6, \"#e6f5d0\"], [0.7, \"#b8e186\"], [0.8, \"#7fbc41\"], [0.9, \"#4d9221\"], [1, \"#276419\"]], \"sequential\": [[0.0, \"#0d0887\"], [0.1111111111111111, \"#46039f\"], [0.2222222222222222, \"#7201a8\"], [0.3333333333333333, \"#9c179e\"], [0.4444444444444444, \"#bd3786\"], [0.5555555555555556, \"#d8576b\"], [0.6666666666666666, \"#ed7953\"], [0.7777777777777778, \"#fb9f3a\"], [0.8888888888888888, \"#fdca26\"], [1.0, \"#f0f921\"]], \"sequentialminus\": [[0.0, \"#0d0887\"], [0.1111111111111111, \"#46039f\"], [0.2222222222222222, \"#7201a8\"], [0.3333333333333333, \"#9c179e\"], [0.4444444444444444, \"#bd3786\"], [0.5555555555555556, \"#d8576b\"], [0.6666666666666666, \"#ed7953\"], [0.7777777777777778, \"#fb9f3a\"], [0.8888888888888888, \"#fdca26\"], [1.0, \"#f0f921\"]]}, \"colorway\": [\"#636efa\", \"#EF553B\", \"#00cc96\", \"#ab63fa\", \"#FFA15A\", \"#19d3f3\", \"#FF6692\", \"#B6E880\", \"#FF97FF\", \"#FECB52\"], \"font\": {\"color\": \"#2a3f5f\"}, \"geo\": {\"bgcolor\": \"white\", \"lakecolor\": \"white\", \"landcolor\": \"#E5ECF6\", \"showlakes\": true, \"showland\": true, \"subunitcolor\": \"white\"}, \"hoverlabel\": {\"align\": \"left\"}, \"hovermode\": \"closest\", \"mapbox\": {\"style\": \"light\"}, \"paper_bgcolor\": \"white\", \"plot_bgcolor\": \"#E5ECF6\", \"polar\": {\"angularaxis\": {\"gridcolor\": \"white\", \"linecolor\": \"white\", \"ticks\": \"\"}, \"bgcolor\": \"#E5ECF6\", \"radialaxis\": {\"gridcolor\": \"white\", \"linecolor\": \"white\", \"ticks\": \"\"}}, \"scene\": {\"xaxis\": {\"backgroundcolor\": \"#E5ECF6\", \"gridcolor\": \"white\", \"gridwidth\": 2, \"linecolor\": \"white\", \"showbackground\": true, \"ticks\": \"\", \"zerolinecolor\": \"white\"}, \"yaxis\": {\"backgroundcolor\": \"#E5ECF6\", \"gridcolor\": \"white\", \"gridwidth\": 2, \"linecolor\": \"white\", \"showbackground\": true, \"ticks\": \"\", \"zerolinecolor\": \"white\"}, \"zaxis\": {\"backgroundcolor\": \"#E5ECF6\", \"gridcolor\": \"white\", \"gridwidth\": 2, \"linecolor\": \"white\", \"showbackground\": true, \"ticks\": \"\", \"zerolinecolor\": \"white\"}}, \"shapedefaults\": {\"line\": {\"color\": \"#2a3f5f\"}}, \"ternary\": {\"aaxis\": {\"gridcolor\": \"white\", \"linecolor\": \"white\", \"ticks\": \"\"}, \"baxis\": {\"gridcolor\": \"white\", \"linecolor\": \"white\", \"ticks\": \"\"}, \"bgcolor\": \"#E5ECF6\", \"caxis\": {\"gridcolor\": \"white\", \"linecolor\": \"white\", \"ticks\": \"\"}}, \"title\": {\"x\": 0.05}, \"xaxis\": {\"automargin\": true, \"gridcolor\": \"white\", \"linecolor\": \"white\", \"ticks\": \"\", \"title\": {\"standoff\": 15}, \"zerolinecolor\": \"white\", \"zerolinewidth\": 2}, \"yaxis\": {\"automargin\": true, \"gridcolor\": \"white\", \"linecolor\": \"white\", \"ticks\": \"\", \"title\": {\"standoff\": 15}, \"zerolinecolor\": \"white\", \"zerolinewidth\": 2}}}},                        {\"responsive\": true}                    ).then(function(){\n",
       "                            \n",
       "var gd = document.getElementById('0084eb95-2458-4df5-bce3-456344148935');\n",
       "var x = new MutationObserver(function (mutations, observer) {{\n",
       "        var display = window.getComputedStyle(gd).display;\n",
       "        if (!display || display === 'none') {{\n",
       "            console.log([gd, 'removed!']);\n",
       "            Plotly.purge(gd);\n",
       "            observer.disconnect();\n",
       "        }}\n",
       "}});\n",
       "\n",
       "// Listen for the removal of the full notebook cells\n",
       "var notebookContainer = gd.closest('#notebook-container');\n",
       "if (notebookContainer) {{\n",
       "    x.observe(notebookContainer, {childList: true});\n",
       "}}\n",
       "\n",
       "// Listen for the clearing of the current output cell\n",
       "var outputEl = gd.closest('.output');\n",
       "if (outputEl) {{\n",
       "    x.observe(outputEl, {childList: true});\n",
       "}}\n",
       "\n",
       "                        })                };                });            </script>        </div>"
      ]
     },
     "metadata": {},
     "output_type": "display_data"
    }
   ],
   "source": [
    "import plotly.express as px\n",
    "df = px.data.iris()\n",
    "fig = px.scatter_3d(newContainerForCluster, x=0, y=1, z=0,\n",
    "              color=0, size=1, size_max=18,\n",
    "              symbol=1, opacity=0.7)\n",
    "\n",
    "# tight layout\n",
    "fig.update_layout(margin=dict(l=0, r=0, b=0, t=0))"
   ]
  },
  {
   "cell_type": "code",
   "execution_count": 21,
   "id": "sudden-passage",
   "metadata": {
    "execution": {
     "iopub.execute_input": "2021-06-21T11:47:49.002142Z",
     "iopub.status.busy": "2021-06-21T11:47:49.001545Z",
     "iopub.status.idle": "2021-06-21T11:47:49.011156Z",
     "shell.execute_reply": "2021-06-21T11:47:49.010659Z",
     "shell.execute_reply.started": "2021-06-21T11:40:46.224472Z"
    },
    "papermill": {
     "duration": 0.036377,
     "end_time": "2021-06-21T11:47:49.011287",
     "exception": false,
     "start_time": "2021-06-21T11:47:48.974910",
     "status": "completed"
    },
    "tags": []
   },
   "outputs": [],
   "source": [
    "#Create submission for kaggle\n",
    "newContainerForCluster=pd.DataFrame(newContainerForCluster) \n",
    "meanOfAllPoints=pd.DataFrame(meanOfAllPoints) \n",
    "# #Save submission to CSV\n",
    "newContainerForCluster.to_csv('submission.csv', index=False)  \n",
    "meanOfAllPoints.to_csv('submission.csv', index=False)  "
   ]
  },
  {
   "cell_type": "code",
   "execution_count": null,
   "id": "fitted-providence",
   "metadata": {
    "papermill": {
     "duration": 0.021175,
     "end_time": "2021-06-21T11:47:49.054102",
     "exception": false,
     "start_time": "2021-06-21T11:47:49.032927",
     "status": "completed"
    },
    "tags": []
   },
   "outputs": [],
   "source": []
  }
 ],
 "metadata": {
  "kernelspec": {
   "display_name": "Python 3",
   "language": "python",
   "name": "python3"
  },
  "language_info": {
   "codemirror_mode": {
    "name": "ipython",
    "version": 3
   },
   "file_extension": ".py",
   "mimetype": "text/x-python",
   "name": "python",
   "nbconvert_exporter": "python",
   "pygments_lexer": "ipython3",
   "version": "3.7.9"
  },
  "papermill": {
   "default_parameters": {},
   "duration": 379.715829,
   "end_time": "2021-06-21T11:47:50.889623",
   "environment_variables": {},
   "exception": null,
   "input_path": "__notebook__.ipynb",
   "output_path": "__notebook__.ipynb",
   "parameters": {},
   "start_time": "2021-06-21T11:41:31.173794",
   "version": "2.3.2"
  }
 },
 "nbformat": 4,
 "nbformat_minor": 5
}
